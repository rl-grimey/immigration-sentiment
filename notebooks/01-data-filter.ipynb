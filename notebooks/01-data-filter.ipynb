{
 "cells": [
  {
   "cell_type": "markdown",
   "metadata": {},
   "source": [
    "# Filtering\n",
    "\n",
    "Filter on:\n",
    "1. Invalid messages\n",
    "2. outside timeframe\n",
    "3. non english tweets\n",
    "4. duplicated tweets/spam users\n",
    "5. retweets\n",
    "\n",
    "\n",
    "Postgres -> Pandas:\n",
    "> dataframe = psql.read_sql(\"SELECT * FROM \", connection)"
   ]
  },
  {
   "cell_type": "code",
   "execution_count": 1,
   "metadata": {},
   "outputs": [],
   "source": [
    "import os\n",
    "from dotenv import find_dotenv, load_dotenv\n",
    "import psycopg2 as pg\n",
    "import pandas.io.sql as psql"
   ]
  },
  {
   "cell_type": "code",
   "execution_count": 2,
   "metadata": {},
   "outputs": [],
   "source": [
    "# Load variables from .env, connect to DB\n",
    "load_dotenv(find_dotenv())\n",
    "database_url = os.environ.get('DATABASE_URL')\n",
    "\n",
    "conn = pg.connect(database_url)\n",
    "curr = conn.cursor()"
   ]
  },
  {
   "cell_type": "markdown",
   "metadata": {},
   "source": [
    "Count how many tweets we have total."
   ]
  },
  {
   "cell_type": "code",
   "execution_count": 3,
   "metadata": {},
   "outputs": [
    {
     "name": "stdout",
     "output_type": "stream",
     "text": [
      "Total tweets:\t617512\n"
     ]
    }
   ],
   "source": [
    "curr.execute('SELECT COUNT(*) FROM raw_tweets;')\n",
    "num_total_tweets = curr.fetchone()[0]\n",
    "print ('Total tweets:\\t{}'.format(num_total_tweets))"
   ]
  },
  {
   "cell_type": "markdown",
   "metadata": {},
   "source": [
    "### Valid Messages\n",
    "\n",
    "Get count of both NULL and NOT NULL in one query:\n",
    "> select count(*) - count(a), count(a) from us;"
   ]
  },
  {
   "cell_type": "code",
   "execution_count": 4,
   "metadata": {},
   "outputs": [
    {
     "name": "stdout",
     "output_type": "stream",
     "text": [
      "Valid:\t616039\n",
      "Invalid\t1473\n"
     ]
    }
   ],
   "source": [
    "curr.execute('SELECT count(\"message\"), COUNT(*) - COUNT(\"message\") from raw_tweets;')\n",
    "num_valid_message, num_null_message = curr.fetchone()\n",
    "\n",
    "print ('Valid:\\t{}\\nInvalid\\t{}'.format(num_valid_message, num_null_message))"
   ]
  },
  {
   "cell_type": "markdown",
   "metadata": {},
   "source": [
    "### Timestamps and Dates\n",
    "\n",
    "- Date of: Jan 27th, 2017\n",
    "- Min Date (-4 weeks): Friday, December 30, 2016\n",
    "- Max Date (+4 weeks): Friday, February 24, 2017\n",
    "\n",
    "\n",
    "> WHERE datefield >= '2010-01-01 00:00:00' "
   ]
  },
  {
   "cell_type": "code",
   "execution_count": 5,
   "metadata": {},
   "outputs": [
    {
     "name": "stdout",
     "output_type": "stream",
     "text": [
      "Min Date:\t2016-12-22 17:36:32\n",
      "Max Date:\t2018-03-26 03:59:56\n",
      "Valid date range tweets:\t0\n"
     ]
    }
   ],
   "source": [
    "date_range_query = \"SELECT MIN(date), MAX(date) FROM raw_tweets;\"\n",
    "curr.execute(date_range_query)\n",
    "date_min, date_max = curr.fetchone()\n",
    "\n",
    "print ('Min Date:\\t{}\\nMax Date:\\t{}'.format(date_min, date_max))\n",
    "\n",
    "date_filter_query = \"SELECT COUNT(*) FROM raw_tweets WHERE date >= '2016-12-30 04:00:00' AND date < '2017-02-24 04:00:00';\"\n",
    "curr.execute(date_filter_query)\n",
    "num_valid_date = curr.fetchone()[0]\n",
    "print ('Valid date range tweets:\\t{}'.format(num_valid_date))"
   ]
  },
  {
   "cell_type": "markdown",
   "metadata": {},
   "source": [
    "### Language"
   ]
  },
  {
   "cell_type": "code",
   "execution_count": 6,
   "metadata": {},
   "outputs": [
    {
     "name": "stdout",
     "output_type": "stream",
     "text": [
      "English tweets:\t287783\n",
      "Non english tweets:\t329729\n"
     ]
    }
   ],
   "source": [
    "filter_language = \"SELECT COUNT(*) FROM raw_tweets WHERE LEFT(language, 2) LIKE 'en';\"\n",
    "curr.execute(filter_language)\n",
    "num_english_tweets = curr.fetchone()[0]\n",
    "\n",
    "print ('English tweets:\\t{}'.format(num_english_tweets))\n",
    "print ('Non english tweets:\\t{}'.format(num_total_tweets-num_english_tweets))"
   ]
  },
  {
   "cell_type": "markdown",
   "metadata": {},
   "source": [
    "### Duplicated Tweets and Spammy users\n",
    "\n",
    "> select a,b from dup group by a,b having count(*) > 1; \n",
    "> \n",
    "> select regno from mytable group by regno having count(stockno) > 1;\n",
    ">\n",
    "> SELECT [EmailAddress], [CustomerName] FROM [Customers] WHERE [EmailAddress] IN\n",
    "  (SELECT [EmailAddress] FROM [Customers] GROUP BY [EmailAddress] HAVING COUNT(*) > 1)"
   ]
  },
  {
   "cell_type": "code",
   "execution_count": 7,
   "metadata": {},
   "outputs": [
    {
     "data": {
      "text/html": [
       "<div>\n",
       "<style scoped>\n",
       "    .dataframe tbody tr th:only-of-type {\n",
       "        vertical-align: middle;\n",
       "    }\n",
       "\n",
       "    .dataframe tbody tr th {\n",
       "        vertical-align: top;\n",
       "    }\n",
       "\n",
       "    .dataframe thead th {\n",
       "        text-align: right;\n",
       "    }\n",
       "</style>\n",
       "<table border=\"1\" class=\"dataframe\">\n",
       "  <thead>\n",
       "    <tr style=\"text-align: right;\">\n",
       "      <th></th>\n",
       "      <th>username</th>\n",
       "      <th>tweetID</th>\n",
       "      <th>message</th>\n",
       "    </tr>\n",
       "  </thead>\n",
       "  <tbody>\n",
       "    <tr>\n",
       "      <th>0</th>\n",
       "      <td>jacko1luv</td>\n",
       "      <td>978013654363918336</td>\n",
       "      <td>RT : Turkish leaders; including Muslim Preside...</td>\n",
       "    </tr>\n",
       "    <tr>\n",
       "      <th>1</th>\n",
       "      <td>Hieiandshino</td>\n",
       "      <td>978019727653199872</td>\n",
       "      <td>RT : Just like they’ve smeared protesters duri...</td>\n",
       "    </tr>\n",
       "    <tr>\n",
       "      <th>2</th>\n",
       "      <td>Hieiandshino</td>\n",
       "      <td>978019727653199872</td>\n",
       "      <td>RT : Just like they’ve smeared protesters duri...</td>\n",
       "    </tr>\n",
       "    <tr>\n",
       "      <th>3</th>\n",
       "      <td>DLPBurke</td>\n",
       "      <td>978029941597130753</td>\n",
       "      <td>We have no laws here now.  We gave up law and ...</td>\n",
       "    </tr>\n",
       "    <tr>\n",
       "      <th>4</th>\n",
       "      <td>DLPBurke</td>\n",
       "      <td>978029941597130753</td>\n",
       "      <td>We have no laws here now.  We gave up law and ...</td>\n",
       "    </tr>\n",
       "    <tr>\n",
       "      <th>5</th>\n",
       "      <td>GettBoba</td>\n",
       "      <td>978031781806043136</td>\n",
       "      <td>Oxford my star; Muslim middle eastern rapists</td>\n",
       "    </tr>\n",
       "    <tr>\n",
       "      <th>6</th>\n",
       "      <td>GettBoba</td>\n",
       "      <td>978031781806043136</td>\n",
       "      <td>Oxford my star; Muslim middle eastern rapists</td>\n",
       "    </tr>\n",
       "    <tr>\n",
       "      <th>7</th>\n",
       "      <td>matantemorin</td>\n",
       "      <td>978071791292813312</td>\n",
       "      <td>RT : Notre qualité de vie et notre capacité de...</td>\n",
       "    </tr>\n",
       "    <tr>\n",
       "      <th>8</th>\n",
       "      <td>matantemorin</td>\n",
       "      <td>978071791292813312</td>\n",
       "      <td>RT : Notre qualité de vie et notre capacité de...</td>\n",
       "    </tr>\n",
       "    <tr>\n",
       "      <th>9</th>\n",
       "      <td>3thman_kh</td>\n",
       "      <td>978074226472181761</td>\n",
       "      <td>اللهم لا سهل إلا ما جعلته سهلاً وأنت تجعل الحز...</td>\n",
       "    </tr>\n",
       "    <tr>\n",
       "      <th>10</th>\n",
       "      <td>3thman_kh</td>\n",
       "      <td>978074226472181761</td>\n",
       "      <td>اللهم لا سهل إلا ما جعلته سهلاً وأنت تجعل الحز...</td>\n",
       "    </tr>\n",
       "    <tr>\n",
       "      <th>11</th>\n",
       "      <td>KosmetikDinda</td>\n",
       "      <td>978104761588187136</td>\n",
       "      <td>RT : Melihat dan menyikapi kondisi kekinian; m...</td>\n",
       "    </tr>\n",
       "    <tr>\n",
       "      <th>12</th>\n",
       "      <td>KosmetikDinda</td>\n",
       "      <td>978104761588187136</td>\n",
       "      <td>RT : Melihat dan menyikapi kondisi kekinian; m...</td>\n",
       "    </tr>\n",
       "    <tr>\n",
       "      <th>13</th>\n",
       "      <td>RaviGup01391931</td>\n",
       "      <td>978113820047675393</td>\n",
       "      <td>RT : इस वक़्त  क्यों ज़रूरी है यह जानने के लिए...</td>\n",
       "    </tr>\n",
       "    <tr>\n",
       "      <th>14</th>\n",
       "      <td>RaviGup01391931</td>\n",
       "      <td>978113820047675393</td>\n",
       "      <td>RT : इस वक़्त  क्यों ज़रूरी है यह जानने के लिए...</td>\n",
       "    </tr>\n",
       "    <tr>\n",
       "      <th>15</th>\n",
       "      <td>ronavioleta</td>\n",
       "      <td>978124151679414272</td>\n",
       "      <td>RT : Waspada akun ngaku &gt;&gt; &lt;&lt; isinya sama pers...</td>\n",
       "    </tr>\n",
       "    <tr>\n",
       "      <th>16</th>\n",
       "      <td>ronavioleta</td>\n",
       "      <td>978124151679414272</td>\n",
       "      <td>RT : Waspada akun ngaku &gt;&gt; &lt;&lt; isinya sama pers...</td>\n",
       "    </tr>\n",
       "    <tr>\n",
       "      <th>17</th>\n",
       "      <td>sturm_tracey</td>\n",
       "      <td>978142769104367617</td>\n",
       "      <td>RT : UN Secretary General “demands” that Trump...</td>\n",
       "    </tr>\n",
       "    <tr>\n",
       "      <th>18</th>\n",
       "      <td>sturm_tracey</td>\n",
       "      <td>978142769104367617</td>\n",
       "      <td>RT : UN Secretary General “demands” that Trump...</td>\n",
       "    </tr>\n",
       "    <tr>\n",
       "      <th>19</th>\n",
       "      <td>saurabhfeb2010</td>\n",
       "      <td>978149558352949248</td>\n",
       "      <td>RT : Hi! My name is Rahul Pappu Gandhi.I wish ...</td>\n",
       "    </tr>\n",
       "  </tbody>\n",
       "</table>\n",
       "</div>"
      ],
      "text/plain": [
       "           username             tweetID  \\\n",
       "0         jacko1luv  978013654363918336   \n",
       "1      Hieiandshino  978019727653199872   \n",
       "2      Hieiandshino  978019727653199872   \n",
       "3          DLPBurke  978029941597130753   \n",
       "4          DLPBurke  978029941597130753   \n",
       "5          GettBoba  978031781806043136   \n",
       "6          GettBoba  978031781806043136   \n",
       "7      matantemorin  978071791292813312   \n",
       "8      matantemorin  978071791292813312   \n",
       "9         3thman_kh  978074226472181761   \n",
       "10        3thman_kh  978074226472181761   \n",
       "11    KosmetikDinda  978104761588187136   \n",
       "12    KosmetikDinda  978104761588187136   \n",
       "13  RaviGup01391931  978113820047675393   \n",
       "14  RaviGup01391931  978113820047675393   \n",
       "15      ronavioleta  978124151679414272   \n",
       "16      ronavioleta  978124151679414272   \n",
       "17     sturm_tracey  978142769104367617   \n",
       "18     sturm_tracey  978142769104367617   \n",
       "19   saurabhfeb2010  978149558352949248   \n",
       "\n",
       "                                              message  \n",
       "0   RT : Turkish leaders; including Muslim Preside...  \n",
       "1   RT : Just like they’ve smeared protesters duri...  \n",
       "2   RT : Just like they’ve smeared protesters duri...  \n",
       "3   We have no laws here now.  We gave up law and ...  \n",
       "4   We have no laws here now.  We gave up law and ...  \n",
       "5       Oxford my star; Muslim middle eastern rapists  \n",
       "6       Oxford my star; Muslim middle eastern rapists  \n",
       "7   RT : Notre qualité de vie et notre capacité de...  \n",
       "8   RT : Notre qualité de vie et notre capacité de...  \n",
       "9   اللهم لا سهل إلا ما جعلته سهلاً وأنت تجعل الحز...  \n",
       "10  اللهم لا سهل إلا ما جعلته سهلاً وأنت تجعل الحز...  \n",
       "11  RT : Melihat dan menyikapi kondisi kekinian; m...  \n",
       "12  RT : Melihat dan menyikapi kondisi kekinian; m...  \n",
       "13  RT : इस वक़्त  क्यों ज़रूरी है यह जानने के लिए...  \n",
       "14  RT : इस वक़्त  क्यों ज़रूरी है यह जानने के लिए...  \n",
       "15  RT : Waspada akun ngaku >> << isinya sama pers...  \n",
       "16  RT : Waspada akun ngaku >> << isinya sama pers...  \n",
       "17  RT : UN Secretary General “demands” that Trump...  \n",
       "18  RT : UN Secretary General “demands” that Trump...  \n",
       "19  RT : Hi! My name is Rahul Pappu Gandhi.I wish ...  "
      ]
     },
     "execution_count": 7,
     "metadata": {},
     "output_type": "execute_result"
    }
   ],
   "source": [
    "dupe_query = \"\"\"\n",
    "SELECT \n",
    "    \"username\", \"tweetID\", \"message\" \n",
    "FROM \n",
    "    raw_tweets \n",
    "WHERE \n",
    "    \"tweetID\" IN (SELECT \"tweetID\" FROM raw_tweets GROUP BY \"tweetID\" HAVING COUNT(*) > 1);\n",
    "\"\"\"\n",
    "\n",
    "\n",
    "dupe_df = psql.read_sql(dupe_query, conn)\n",
    "dupe_df.head(20)"
   ]
  },
  {
   "cell_type": "markdown",
   "metadata": {},
   "source": [
    "### Retweets"
   ]
  },
  {
   "cell_type": "code",
   "execution_count": 8,
   "metadata": {},
   "outputs": [
    {
     "name": "stdout",
     "output_type": "stream",
     "text": [
      "Retweets:\t181478\n",
      "Original Tweets\t436034\n"
     ]
    }
   ],
   "source": [
    "# First see how many retweets we have\n",
    "curr.execute('SELECT count(\"retweet\"), COUNT(*) - COUNT(\"retweet\") from raw_tweets;')\n",
    "num_valid_rt, num_null_rt = curr.fetchone()\n",
    "\n",
    "print ('Retweets:\\t{}\\nOriginal Tweets\\t{}'.format(num_valid_rt, num_null_rt))"
   ]
  },
  {
   "cell_type": "code",
   "execution_count": 9,
   "metadata": {},
   "outputs": [
    {
     "data": {
      "text/html": [
       "<div>\n",
       "<style scoped>\n",
       "    .dataframe tbody tr th:only-of-type {\n",
       "        vertical-align: middle;\n",
       "    }\n",
       "\n",
       "    .dataframe tbody tr th {\n",
       "        vertical-align: top;\n",
       "    }\n",
       "\n",
       "    .dataframe thead th {\n",
       "        text-align: right;\n",
       "    }\n",
       "</style>\n",
       "<table border=\"1\" class=\"dataframe\">\n",
       "  <thead>\n",
       "    <tr style=\"text-align: right;\">\n",
       "      <th></th>\n",
       "      <th>retweet</th>\n",
       "    </tr>\n",
       "  </thead>\n",
       "  <tbody>\n",
       "    <tr>\n",
       "      <th>0</th>\n",
       "      <td>RT</td>\n",
       "    </tr>\n",
       "    <tr>\n",
       "      <th>1</th>\n",
       "      <td>RT</td>\n",
       "    </tr>\n",
       "    <tr>\n",
       "      <th>2</th>\n",
       "      <td>RT</td>\n",
       "    </tr>\n",
       "    <tr>\n",
       "      <th>3</th>\n",
       "      <td>RT</td>\n",
       "    </tr>\n",
       "    <tr>\n",
       "      <th>4</th>\n",
       "      <td>RT</td>\n",
       "    </tr>\n",
       "    <tr>\n",
       "      <th>5</th>\n",
       "      <td>RT</td>\n",
       "    </tr>\n",
       "    <tr>\n",
       "      <th>6</th>\n",
       "      <td>RT</td>\n",
       "    </tr>\n",
       "    <tr>\n",
       "      <th>7</th>\n",
       "      <td>RT</td>\n",
       "    </tr>\n",
       "    <tr>\n",
       "      <th>8</th>\n",
       "      <td>RT</td>\n",
       "    </tr>\n",
       "    <tr>\n",
       "      <th>9</th>\n",
       "      <td>RT</td>\n",
       "    </tr>\n",
       "    <tr>\n",
       "      <th>10</th>\n",
       "      <td>RT</td>\n",
       "    </tr>\n",
       "    <tr>\n",
       "      <th>11</th>\n",
       "      <td>RT</td>\n",
       "    </tr>\n",
       "    <tr>\n",
       "      <th>12</th>\n",
       "      <td>RT</td>\n",
       "    </tr>\n",
       "    <tr>\n",
       "      <th>13</th>\n",
       "      <td>RT</td>\n",
       "    </tr>\n",
       "    <tr>\n",
       "      <th>14</th>\n",
       "      <td>RT</td>\n",
       "    </tr>\n",
       "    <tr>\n",
       "      <th>15</th>\n",
       "      <td>RT</td>\n",
       "    </tr>\n",
       "    <tr>\n",
       "      <th>16</th>\n",
       "      <td>RT</td>\n",
       "    </tr>\n",
       "    <tr>\n",
       "      <th>17</th>\n",
       "      <td>RT</td>\n",
       "    </tr>\n",
       "    <tr>\n",
       "      <th>18</th>\n",
       "      <td>RT</td>\n",
       "    </tr>\n",
       "    <tr>\n",
       "      <th>19</th>\n",
       "      <td>RT</td>\n",
       "    </tr>\n",
       "  </tbody>\n",
       "</table>\n",
       "</div>"
      ],
      "text/plain": [
       "   retweet\n",
       "0       RT\n",
       "1       RT\n",
       "2       RT\n",
       "3       RT\n",
       "4       RT\n",
       "5       RT\n",
       "6       RT\n",
       "7       RT\n",
       "8       RT\n",
       "9       RT\n",
       "10      RT\n",
       "11      RT\n",
       "12      RT\n",
       "13      RT\n",
       "14      RT\n",
       "15      RT\n",
       "16      RT\n",
       "17      RT\n",
       "18      RT\n",
       "19      RT"
      ]
     },
     "execution_count": 9,
     "metadata": {},
     "output_type": "execute_result"
    }
   ],
   "source": [
    "# Take a look at some retweets\n",
    "rt_query = 'SELECT retweet FROM raw_tweets WHERE retweet IS NOT NULL LIMIT 100;'\n",
    "rt_df = psql.read_sql(rt_query, conn)\n",
    "\n",
    "rt_df.head(20)"
   ]
  },
  {
   "cell_type": "code",
   "execution_count": 10,
   "metadata": {},
   "outputs": [],
   "source": [
    "filter_retweets = 'SELECT COUNT(*) FROM raw_tweets WHERE retweet'"
   ]
  },
  {
   "cell_type": "markdown",
   "metadata": {},
   "source": [
    "### Filter all\n",
    "\n",
    "```\n",
    "SELECT\n",
    "    # Only select unduplicated tweets from database\n",
    "    DISTINCT ON (\"tweetID\")\n",
    "    *\n",
    "FROM \n",
    "    raw_tweets\n",
    "WHERE\n",
    "    # Tweets need a message for consideration\n",
    "    (message IS NOT NULL) AND\n",
    "    # Don't grab retweets\n",
    "    (retweet IS NULL) AND\n",
    "    # Only grab english flagged tweets\n",
    "    (LEFT(language, 2) LIKE 'en') AND\n",
    "    # Only grab location verified tweets\n",
    "    (latitude IS NOT NULL) AND\n",
    "    (longitude IS NOT NULL);\n",
    "```"
   ]
  },
  {
   "cell_type": "code",
   "execution_count": 19,
   "metadata": {},
   "outputs": [],
   "source": [
    "filter_sql = \"\"\"\n",
    "SELECT\n",
    "    DISTINCT ON (\"tweetID\")\n",
    "    *\n",
    "FROM \n",
    "    raw_tweets\n",
    "WHERE\n",
    "    (message IS NOT NULL) AND\n",
    "    (retweet IS NULL) AND\n",
    "    (LEFT(language, 2) LIKE 'en') AND\n",
    "    (latitude IS NOT NULL) AND\n",
    "    (longitude IS NOT NULL);\n",
    "\"\"\"\n",
    "\n",
    "filter_df = psql.read_sql(filter_sql, conn)"
   ]
  },
  {
   "cell_type": "code",
   "execution_count": 20,
   "metadata": {},
   "outputs": [
    {
     "name": "stdout",
     "output_type": "stream",
     "text": [
      "Total:\t617512\n",
      "Filtered:\t119737\n"
     ]
    },
    {
     "data": {
      "text/html": [
       "<div>\n",
       "<style scoped>\n",
       "    .dataframe tbody tr th:only-of-type {\n",
       "        vertical-align: middle;\n",
       "    }\n",
       "\n",
       "    .dataframe tbody tr th {\n",
       "        vertical-align: top;\n",
       "    }\n",
       "\n",
       "    .dataframe thead th {\n",
       "        text-align: right;\n",
       "    }\n",
       "</style>\n",
       "<table border=\"1\" class=\"dataframe\">\n",
       "  <thead>\n",
       "    <tr style=\"text-align: right;\">\n",
       "      <th></th>\n",
       "      <th>id</th>\n",
       "      <th>tweetID</th>\n",
       "      <th>date</th>\n",
       "      <th>message</th>\n",
       "      <th>username</th>\n",
       "      <th>userID</th>\n",
       "      <th>language</th>\n",
       "      <th>longitude</th>\n",
       "      <th>latitude</th>\n",
       "      <th>retweet</th>\n",
       "    </tr>\n",
       "  </thead>\n",
       "  <tbody>\n",
       "    <tr>\n",
       "      <th>0</th>\n",
       "      <td>346075</td>\n",
       "      <td>812080849239810048</td>\n",
       "      <td>2016-12-22 17:42:16</td>\n",
       "      <td>PrisonPlanetTV: RT PrisonPlanet: Muslim YouTub...</td>\n",
       "      <td>RJazz117</td>\n",
       "      <td>19497260</td>\n",
       "      <td>en</td>\n",
       "      <td>114.627525</td>\n",
       "      <td>-3.351165</td>\n",
       "      <td>None</td>\n",
       "    </tr>\n",
       "    <tr>\n",
       "      <th>1</th>\n",
       "      <td>346775</td>\n",
       "      <td>812081118619041792</td>\n",
       "      <td>2016-12-22 17:43:21</td>\n",
       "      <td>اللهم لا سهل إلا ما جعلته سهلاً وأنت تجعل الحز...</td>\n",
       "      <td>ghuwainm</td>\n",
       "      <td>2252611996</td>\n",
       "      <td>en</td>\n",
       "      <td>114.627525</td>\n",
       "      <td>-3.351165</td>\n",
       "      <td>None</td>\n",
       "    </tr>\n",
       "    <tr>\n",
       "      <th>2</th>\n",
       "      <td>346975</td>\n",
       "      <td>812081201355878406</td>\n",
       "      <td>2016-12-22 17:43:40</td>\n",
       "      <td>what religion were the flames ? Muslim I bet eh</td>\n",
       "      <td>__ZAINRAJA</td>\n",
       "      <td>48112908</td>\n",
       "      <td>en</td>\n",
       "      <td>114.627525</td>\n",
       "      <td>-3.351165</td>\n",
       "      <td>None</td>\n",
       "    </tr>\n",
       "    <tr>\n",
       "      <th>3</th>\n",
       "      <td>347503</td>\n",
       "      <td>812081414128615424</td>\n",
       "      <td>2016-12-22 17:44:31</td>\n",
       "      <td>Barack  takes the utmost care to avoid offendi...</td>\n",
       "      <td>Asher_P_Fly</td>\n",
       "      <td>714798361</td>\n",
       "      <td>en</td>\n",
       "      <td>107.607830</td>\n",
       "      <td>-6.914070</td>\n",
       "      <td>None</td>\n",
       "    </tr>\n",
       "    <tr>\n",
       "      <th>4</th>\n",
       "      <td>347603</td>\n",
       "      <td>812081456121987072</td>\n",
       "      <td>2016-12-22 17:44:41</td>\n",
       "      <td>i was so proud of how far the UK had come in t...</td>\n",
       "      <td>TellDramaUK</td>\n",
       "      <td>3068652335</td>\n",
       "      <td>en</td>\n",
       "      <td>107.607830</td>\n",
       "      <td>-6.914070</td>\n",
       "      <td>None</td>\n",
       "    </tr>\n",
       "  </tbody>\n",
       "</table>\n",
       "</div>"
      ],
      "text/plain": [
       "       id             tweetID                date  \\\n",
       "0  346075  812080849239810048 2016-12-22 17:42:16   \n",
       "1  346775  812081118619041792 2016-12-22 17:43:21   \n",
       "2  346975  812081201355878406 2016-12-22 17:43:40   \n",
       "3  347503  812081414128615424 2016-12-22 17:44:31   \n",
       "4  347603  812081456121987072 2016-12-22 17:44:41   \n",
       "\n",
       "                                             message     username      userID  \\\n",
       "0  PrisonPlanetTV: RT PrisonPlanet: Muslim YouTub...     RJazz117    19497260   \n",
       "1  اللهم لا سهل إلا ما جعلته سهلاً وأنت تجعل الحز...     ghuwainm  2252611996   \n",
       "2    what religion were the flames ? Muslim I bet eh   __ZAINRAJA    48112908   \n",
       "3  Barack  takes the utmost care to avoid offendi...  Asher_P_Fly   714798361   \n",
       "4  i was so proud of how far the UK had come in t...  TellDramaUK  3068652335   \n",
       "\n",
       "  language   longitude  latitude retweet  \n",
       "0       en  114.627525 -3.351165    None  \n",
       "1       en  114.627525 -3.351165    None  \n",
       "2       en  114.627525 -3.351165    None  \n",
       "3       en  107.607830 -6.914070    None  \n",
       "4       en  107.607830 -6.914070    None  "
      ]
     },
     "execution_count": 20,
     "metadata": {},
     "output_type": "execute_result"
    }
   ],
   "source": [
    "print ('Total:\\t{}\\nFiltered:\\t{}'.format(num_total_tweets, len(filter_df)))\n",
    "filter_df.head()"
   ]
  },
  {
   "cell_type": "markdown",
   "metadata": {},
   "source": [
    "### Select and insert into new table"
   ]
  },
  {
   "cell_type": "code",
   "execution_count": 23,
   "metadata": {},
   "outputs": [],
   "source": [
    "sel_insert_sql = \"\"\"INSERT INTO filter_tweets \"\"\" + filter_sql"
   ]
  },
  {
   "cell_type": "code",
   "execution_count": 24,
   "metadata": {},
   "outputs": [
    {
     "data": {
      "text/plain": [
       "'INSERT INTO filter_tweets \\nSELECT\\n    DISTINCT ON (\"tweetID\")\\n    *\\nFROM \\n    raw_tweets\\nWHERE\\n    (message IS NOT NULL) AND\\n    (LEFT(language, 2) LIKE \\'en\\') AND\\n    (latitude IS NOT NULL) AND\\n    (longitude IS NOT NULL) AND\\n    (retweet IS NULL);\\n'"
      ]
     },
     "execution_count": 24,
     "metadata": {},
     "output_type": "execute_result"
    }
   ],
   "source": [
    "sel_insert_sql"
   ]
  },
  {
   "cell_type": "code",
   "execution_count": 25,
   "metadata": {},
   "outputs": [],
   "source": [
    "conn.close()"
   ]
  },
  {
   "cell_type": "code",
   "execution_count": null,
   "metadata": {},
   "outputs": [],
   "source": []
  }
 ],
 "metadata": {
  "kernelspec": {
   "display_name": "Python 3",
   "language": "python",
   "name": "python3"
  },
  "language_info": {
   "codemirror_mode": {
    "name": "ipython",
    "version": 3
   },
   "file_extension": ".py",
   "mimetype": "text/x-python",
   "name": "python",
   "nbconvert_exporter": "python",
   "pygments_lexer": "ipython3",
   "version": "3.6.4"
  }
 },
 "nbformat": 4,
 "nbformat_minor": 2
}
