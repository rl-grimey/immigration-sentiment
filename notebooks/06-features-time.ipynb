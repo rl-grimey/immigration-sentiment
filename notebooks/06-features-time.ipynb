{
 "cells": [
  {
   "cell_type": "markdown",
   "metadata": {},
   "source": [
    "# Features - Time\n",
    "\n",
    "Mapping time intervals to tweets."
   ]
  },
  {
   "cell_type": "code",
   "execution_count": 1,
   "metadata": {},
   "outputs": [],
   "source": [
    "# Env\n",
    "import os\n",
    "from dotenv import find_dotenv, load_dotenv\n",
    "\n",
    "# Data\n",
    "import pandas as pd\n",
    "import pandas.io.sql as pdsql\n",
    "\n",
    "# Database\n",
    "import psycopg2 as pg\n",
    "\n",
    "# Faster computations\n",
    "from multiprocessing import Pool\n",
    "\n",
    "# For manipulating datetimes\n",
    "import datetime\n",
    "import pytz"
   ]
  },
  {
   "cell_type": "code",
   "execution_count": 2,
   "metadata": {},
   "outputs": [],
   "source": [
    "# Environment\n",
    "load_dotenv(find_dotenv())\n",
    "db_url = os.environ.get('DATABASE_URL')\n",
    "\n",
    "conn = pg.connect(db_url)\n",
    "curr = conn.cursor()"
   ]
  },
  {
   "cell_type": "markdown",
   "metadata": {},
   "source": [
    "**Define the time periods**\n",
    "\n",
    "We need to do some mathemagic to convert Twitter's timestamp (`UTC`) to a localized time. This involves calculating the cut off times in UTC.\n",
    "\n",
    "| Time Period | Min (`PST`) | Max (`PST`) |\n",
    "|---|---|---|\n",
    "| -4 | \n",
    "| -3 |\n",
    "| -2 |\n",
    "| -1 |\n",
    "| 0 | \n",
    "| 1 |\n",
    "| 2 |\n",
    "| 3 |\n",
    "| 4 |\n",
    "\n",
    "**Epoch == January 27th, 2017**\n",
    "\n",
    "Start should be midnight for PST, as midnight in EST doesnt account for West Coast which may still be awake."
   ]
  },
  {
   "cell_type": "code",
   "execution_count": 3,
   "metadata": {},
   "outputs": [],
   "source": [
    "# TIME ZONES\n",
    "EST = pytz.timezone('US/Eastern')\n",
    "PST = pytz.timezone('US/Pacific')\n",
    "UTC = pytz.timezone('UTC')"
   ]
  },
  {
   "cell_type": "code",
   "execution_count": 4,
   "metadata": {},
   "outputs": [
    {
     "name": "stdout",
     "output_type": "stream",
     "text": [
      "Epoch starts\n",
      "EST 2017-01-27 03:00:00-05:00\n",
      "PST 2017-01-27 00:00:00-08:00\n",
      "UTC 2017-01-27 08:00:00+00:00\n"
     ]
    }
   ],
   "source": [
    "# Beginning\n",
    "epoch_start_pst = PST.localize(datetime.datetime(2017, 1, 27))\n",
    "epoch_start_est = epoch_start_pst.astimezone(EST)\n",
    "epoch_start_utc = epoch_start_pst.astimezone(UTC)\n",
    "\n",
    "print ('Epoch starts')\n",
    "print ('EST', epoch_start_est)\n",
    "print ('PST', epoch_start_pst)\n",
    "print ('UTC', epoch_start_utc)"
   ]
  },
  {
   "cell_type": "code",
   "execution_count": 5,
   "metadata": {},
   "outputs": [
    {
     "name": "stdout",
     "output_type": "stream",
     "text": [
      "Epoch ends\n",
      "EST 2017-01-28 03:00:00-05:00\n",
      "PST 2017-01-28 00:00:00-08:00\n",
      "UTC 2017-01-28 08:00:00+00:00\n"
     ]
    }
   ],
   "source": [
    "# Ending\n",
    "epoch_end_pst = PST.localize(datetime.datetime(2017, 1, 28))\n",
    "epoch_end_est = epoch_end_pst.astimezone(EST)\n",
    "epoch_end_utc = epoch_end_pst.astimezone(UTC)\n",
    "\n",
    "print ('Epoch ends')\n",
    "print ('EST', epoch_end_est)\n",
    "print ('PST', epoch_end_pst)\n",
    "print ('UTC', epoch_end_utc)"
   ]
  },
  {
   "cell_type": "code",
   "execution_count": 6,
   "metadata": {},
   "outputs": [
    {
     "name": "stdout",
     "output_type": "stream",
     "text": [
      "-4\t[2016-12-30 08:00:00+00:00,\t2017-01-06 08:00:00+00:00]\n",
      "-3\t[2017-01-06 08:00:00+00:00,\t2017-01-13 08:00:00+00:00]\n",
      "-2\t[2017-01-13 08:00:00+00:00,\t2017-01-20 08:00:00+00:00]\n",
      "-1\t[2017-01-20 08:00:00+00:00,\t2017-01-27 08:00:00+00:00]\n",
      "0\t[2017-01-27 08:00:00+00:00,\t2017-01-28 08:00:00+00:00]\n",
      "1\t[2017-01-28 08:00:00+00:00,\t2017-02-04 08:00:00+00:00]\n",
      "2\t[2017-02-04 08:00:00+00:00,\t2017-02-11 08:00:00+00:00]\n",
      "3\t[2017-02-11 08:00:00+00:00,\t2017-02-18 08:00:00+00:00]\n",
      "4\t[2017-02-18 08:00:00+00:00,\t2017-02-25 08:00:00+00:00]\n"
     ]
    }
   ],
   "source": [
    "# TIME PERIODS\n",
    "# Create time periods for quicker lookup\n",
    "\n",
    "# Each period should last a week\n",
    "time_period = datetime.timedelta(days=7)\n",
    "\n",
    "# Hold the intervals\n",
    "intervals = []\n",
    "\n",
    "# Create intervals for 'BEFORE'\n",
    "for i in range(-4, 0):\n",
    "    i_start = epoch_start_utc - (abs(i) * time_period)\n",
    "    i_end = epoch_start_utc - ((abs(i) - 1) * time_period)\n",
    "    \n",
    "    print ('{}\\t[{},\\t{}]'.format(i, i_start, i_end))\n",
    "    intervals.append({\n",
    "        'period': i,\n",
    "        'start': i_start,\n",
    "        'end': i_end\n",
    "    })\n",
    "    \n",
    "# Create epoch interval\n",
    "intervals.append({\n",
    "    'period': 0,\n",
    "    'start': epoch_start_utc,\n",
    "    'end': epoch_end_utc\n",
    "})\n",
    "print ('{}\\t[{},\\t{}]'.format(0, epoch_start_utc, epoch_end_utc))\n",
    "\n",
    "# Create intervals for 'AFTER'\n",
    "for i in range(1, 5):\n",
    "    i_start = epoch_end_utc + ((i-1) * time_period)\n",
    "    i_end = epoch_end_utc + (i * time_period)\n",
    "    \n",
    "    print ('{}\\t[{},\\t{}]'.format(i, i_start, i_end))\n",
    "    intervals.append({\n",
    "        'period': i,\n",
    "        'start': i_start,\n",
    "        'end': i_end\n",
    "    })"
   ]
  },
  {
   "cell_type": "code",
   "execution_count": 7,
   "metadata": {},
   "outputs": [
    {
     "data": {
      "text/plain": [
       "[{'period': -4,\n",
       "  'start': datetime.datetime(2016, 12, 30, 8, 0, tzinfo=<UTC>),\n",
       "  'end': datetime.datetime(2017, 1, 6, 8, 0, tzinfo=<UTC>)},\n",
       " {'period': -3,\n",
       "  'start': datetime.datetime(2017, 1, 6, 8, 0, tzinfo=<UTC>),\n",
       "  'end': datetime.datetime(2017, 1, 13, 8, 0, tzinfo=<UTC>)},\n",
       " {'period': -2,\n",
       "  'start': datetime.datetime(2017, 1, 13, 8, 0, tzinfo=<UTC>),\n",
       "  'end': datetime.datetime(2017, 1, 20, 8, 0, tzinfo=<UTC>)},\n",
       " {'period': -1,\n",
       "  'start': datetime.datetime(2017, 1, 20, 8, 0, tzinfo=<UTC>),\n",
       "  'end': datetime.datetime(2017, 1, 27, 8, 0, tzinfo=<UTC>)},\n",
       " {'period': 0,\n",
       "  'start': datetime.datetime(2017, 1, 27, 8, 0, tzinfo=<UTC>),\n",
       "  'end': datetime.datetime(2017, 1, 28, 8, 0, tzinfo=<UTC>)},\n",
       " {'period': 1,\n",
       "  'start': datetime.datetime(2017, 1, 28, 8, 0, tzinfo=<UTC>),\n",
       "  'end': datetime.datetime(2017, 2, 4, 8, 0, tzinfo=<UTC>)},\n",
       " {'period': 2,\n",
       "  'start': datetime.datetime(2017, 2, 4, 8, 0, tzinfo=<UTC>),\n",
       "  'end': datetime.datetime(2017, 2, 11, 8, 0, tzinfo=<UTC>)},\n",
       " {'period': 3,\n",
       "  'start': datetime.datetime(2017, 2, 11, 8, 0, tzinfo=<UTC>),\n",
       "  'end': datetime.datetime(2017, 2, 18, 8, 0, tzinfo=<UTC>)},\n",
       " {'period': 4,\n",
       "  'start': datetime.datetime(2017, 2, 18, 8, 0, tzinfo=<UTC>),\n",
       "  'end': datetime.datetime(2017, 2, 25, 8, 0, tzinfo=<UTC>)}]"
      ]
     },
     "execution_count": 7,
     "metadata": {},
     "output_type": "execute_result"
    }
   ],
   "source": [
    "intervals"
   ]
  },
  {
   "cell_type": "markdown",
   "metadata": {},
   "source": [
    "**Get the tweets**"
   ]
  },
  {
   "cell_type": "code",
   "execution_count": 8,
   "metadata": {},
   "outputs": [
    {
     "data": {
      "text/html": [
       "<div>\n",
       "<style scoped>\n",
       "    .dataframe tbody tr th:only-of-type {\n",
       "        vertical-align: middle;\n",
       "    }\n",
       "\n",
       "    .dataframe tbody tr th {\n",
       "        vertical-align: top;\n",
       "    }\n",
       "\n",
       "    .dataframe thead th {\n",
       "        text-align: right;\n",
       "    }\n",
       "</style>\n",
       "<table border=\"1\" class=\"dataframe\">\n",
       "  <thead>\n",
       "    <tr style=\"text-align: right;\">\n",
       "      <th></th>\n",
       "      <th>tweetID</th>\n",
       "    </tr>\n",
       "    <tr>\n",
       "      <th>date</th>\n",
       "      <th></th>\n",
       "    </tr>\n",
       "  </thead>\n",
       "  <tbody>\n",
       "    <tr>\n",
       "      <th>2017-01-31 19:22:01</th>\n",
       "      <td>826601467255595008</td>\n",
       "    </tr>\n",
       "    <tr>\n",
       "      <th>2017-01-31 19:22:02</th>\n",
       "      <td>826601469017194496</td>\n",
       "    </tr>\n",
       "    <tr>\n",
       "      <th>2017-01-31 19:22:02</th>\n",
       "      <td>826601470044803073</td>\n",
       "    </tr>\n",
       "    <tr>\n",
       "      <th>2017-01-31 19:22:02</th>\n",
       "      <td>826601470321639425</td>\n",
       "    </tr>\n",
       "    <tr>\n",
       "      <th>2017-01-31 19:22:02</th>\n",
       "      <td>826601470531219456</td>\n",
       "    </tr>\n",
       "  </tbody>\n",
       "</table>\n",
       "</div>"
      ],
      "text/plain": [
       "                                tweetID\n",
       "date                                   \n",
       "2017-01-31 19:22:01  826601467255595008\n",
       "2017-01-31 19:22:02  826601469017194496\n",
       "2017-01-31 19:22:02  826601470044803073\n",
       "2017-01-31 19:22:02  826601470321639425\n",
       "2017-01-31 19:22:02  826601470531219456"
      ]
     },
     "execution_count": 8,
     "metadata": {},
     "output_type": "execute_result"
    }
   ],
   "source": [
    "filter_cols_sql = \"\"\"\n",
    "SELECT \n",
    "    \"tweetID\", date\n",
    "FROM \n",
    "    filter_tweets;\n",
    "\"\"\"\n",
    "date_df = pdsql.read_sql_query(filter_cols_sql, conn, index_col='date')\n",
    "\n",
    "date_df.head()"
   ]
  },
  {
   "cell_type": "code",
   "execution_count": 9,
   "metadata": {},
   "outputs": [
    {
     "data": {
      "text/plain": [
       "'datetime64[ns]'"
      ]
     },
     "execution_count": 9,
     "metadata": {},
     "output_type": "execute_result"
    }
   ],
   "source": [
    "date_df.index.dtype_str"
   ]
  },
  {
   "cell_type": "markdown",
   "metadata": {},
   "source": [
    "### Map Tweets to periods"
   ]
  },
  {
   "cell_type": "code",
   "execution_count": 10,
   "metadata": {},
   "outputs": [
    {
     "name": "stdout",
     "output_type": "stream",
     "text": [
      "-4 433931\n",
      "-3 455915\n",
      "-2 503966\n",
      "-1 761361\n",
      "0 256524\n",
      "1 2720845\n",
      "2 1345329\n",
      "3 988963\n",
      "4 1014865\n"
     ]
    }
   ],
   "source": [
    "# Add a column initialized to null\n",
    "# This way, after we're done assigning values we'll be able to easily find out of range tweets\n",
    "date_df = date_df.assign(period=None)\n",
    "\n",
    "for i in intervals:\n",
    "    # Format datetimes in an indexable fashion\n",
    "    start_fmt = i['start'].strftime('%Y-%m-%d %H:00:00')\n",
    "    end_fmt = i['end'].strftime('%Y-%m-%d %H:00:00')\n",
    "    \n",
    "    # Get the counts\n",
    "    cnt = len(date_df[start_fmt: end_fmt])\n",
    "    print (i['period'], cnt)\n",
    "    \n",
    "    # Assign a time period to the dataframe subset\n",
    "    date_df.loc[start_fmt: end_fmt, 'period'] = i['period']"
   ]
  },
  {
   "cell_type": "code",
   "execution_count": 11,
   "metadata": {},
   "outputs": [
    {
     "data": {
      "text/plain": [
       "15796"
      ]
     },
     "execution_count": 11,
     "metadata": {},
     "output_type": "execute_result"
    }
   ],
   "source": [
    "# Number of null tweets\n",
    "len(date_df[date_df.period.isnull()])"
   ]
  },
  {
   "cell_type": "code",
   "execution_count": 12,
   "metadata": {},
   "outputs": [],
   "source": [
    "# Reset columns before we write it out\n",
    "date_df.reset_index(inplace=True)\n",
    "\n",
    "# write that ish out\n",
    "date_df[['tweetID', 'date', 'period']].to_csv('../time-periods.csv', index=False)"
   ]
  },
  {
   "cell_type": "code",
   "execution_count": 13,
   "metadata": {},
   "outputs": [],
   "source": [
    "# close up shop\n",
    "curr.close()\n",
    "conn.close()"
   ]
  },
  {
   "cell_type": "code",
   "execution_count": null,
   "metadata": {},
   "outputs": [],
   "source": []
  }
 ],
 "metadata": {
  "kernelspec": {
   "display_name": "Python 3",
   "language": "python",
   "name": "python3"
  },
  "language_info": {
   "codemirror_mode": {
    "name": "ipython",
    "version": 3
   },
   "file_extension": ".py",
   "mimetype": "text/x-python",
   "name": "python",
   "nbconvert_exporter": "python",
   "pygments_lexer": "ipython3",
   "version": "3.6.4"
  }
 },
 "nbformat": 4,
 "nbformat_minor": 2
}
