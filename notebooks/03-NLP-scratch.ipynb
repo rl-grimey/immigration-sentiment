{
 "cells": [
  {
   "cell_type": "code",
   "execution_count": 1,
   "metadata": {},
   "outputs": [
    {
     "name": "stderr",
     "output_type": "stream",
     "text": [
      "/home/rlrson/anaconda3/envs/immigration-sentiment/lib/python3.6/site-packages/psycopg2/__init__.py:144: UserWarning: The psycopg2 wheel package will be renamed from release 2.8; in order to keep installing from binary please use \"pip install psycopg2-binary\" instead. For details see: <http://initd.org/psycopg/docs/install.html#binary-install-from-pypi>.\n",
      "  \"\"\")\n"
     ]
    }
   ],
   "source": [
    "# Libraries\n",
    "import os\n",
    "from dotenv import find_dotenv, load_dotenv\n",
    "\n",
    "import psycopg2 as pg\n",
    "import pandas as pd\n",
    "\n",
    "pd.set_option('display.max_colwidth', 200)"
   ]
  },
  {
   "cell_type": "code",
   "execution_count": 2,
   "metadata": {},
   "outputs": [],
   "source": [
    "# Environment variables\n",
    "load_dotenv(find_dotenv())\n",
    "\n",
    "database_url = os.environ.get('DATABASE_URL')"
   ]
  },
  {
   "cell_type": "code",
   "execution_count": 3,
   "metadata": {},
   "outputs": [],
   "source": [
    "# Database\n",
    "conn = pg.connect(database_url)\n",
    "curr = conn.cursor()"
   ]
  },
  {
   "cell_type": "code",
   "execution_count": 4,
   "metadata": {},
   "outputs": [
    {
     "data": {
      "text/plain": [
       "(254406585,)"
      ]
     },
     "execution_count": 4,
     "metadata": {},
     "output_type": "execute_result"
    }
   ],
   "source": [
    "curr.execute('SELECT COUNT(*) FROM raw_tweets;')\n",
    "curr.fetchone()"
   ]
  },
  {
   "cell_type": "code",
   "execution_count": 5,
   "metadata": {},
   "outputs": [],
   "source": [
    "%timeit -n 1\n",
    "sample_df = pd.read_sql('SELECT * FROM raw_tweets LIMIT 50000;', con=conn)"
   ]
  },
  {
   "cell_type": "code",
   "execution_count": 6,
   "metadata": {},
   "outputs": [
    {
     "name": "stdout",
     "output_type": "stream",
     "text": [
      "id                    int64\n",
      "tweetID               int64\n",
      "date         datetime64[ns]\n",
      "message              object\n",
      "username             object\n",
      "userID                int64\n",
      "language             object\n",
      "longitude           float64\n",
      "latitude            float64\n",
      "retweet              object\n",
      "dtype: object\n"
     ]
    },
    {
     "data": {
      "text/html": [
       "<div>\n",
       "<style scoped>\n",
       "    .dataframe tbody tr th:only-of-type {\n",
       "        vertical-align: middle;\n",
       "    }\n",
       "\n",
       "    .dataframe tbody tr th {\n",
       "        vertical-align: top;\n",
       "    }\n",
       "\n",
       "    .dataframe thead th {\n",
       "        text-align: right;\n",
       "    }\n",
       "</style>\n",
       "<table border=\"1\" class=\"dataframe\">\n",
       "  <thead>\n",
       "    <tr style=\"text-align: right;\">\n",
       "      <th></th>\n",
       "      <th>id</th>\n",
       "      <th>tweetID</th>\n",
       "      <th>date</th>\n",
       "      <th>message</th>\n",
       "      <th>username</th>\n",
       "      <th>userID</th>\n",
       "      <th>language</th>\n",
       "      <th>longitude</th>\n",
       "      <th>latitude</th>\n",
       "      <th>retweet</th>\n",
       "    </tr>\n",
       "  </thead>\n",
       "  <tbody>\n",
       "    <tr>\n",
       "      <th>0</th>\n",
       "      <td>398289</td>\n",
       "      <td>848097694266609664</td>\n",
       "      <td>2017-04-01 04:00:21</td>\n",
       "      <td>سبحان الله والحمد لله والله أكبر ♻️</td>\n",
       "      <td>hebamagdy706</td>\n",
       "      <td>3192656896</td>\n",
       "      <td>en</td>\n",
       "      <td>103.117110</td>\n",
       "      <td>5.321724</td>\n",
       "      <td>None</td>\n",
       "    </tr>\n",
       "    <tr>\n",
       "      <th>1</th>\n",
       "      <td>398290</td>\n",
       "      <td>848097695185215488</td>\n",
       "      <td>2017-04-01 04:00:22</td>\n",
       "      <td>RT : He just silenced every Muslim apologist – Israel Video Network</td>\n",
       "      <td>BuggerWorld</td>\n",
       "      <td>166581009</td>\n",
       "      <td>nl</td>\n",
       "      <td>101.594850</td>\n",
       "      <td>3.058207</td>\n",
       "      <td>RT</td>\n",
       "    </tr>\n",
       "    <tr>\n",
       "      <th>2</th>\n",
       "      <td>398291</td>\n",
       "      <td>848097695613014016</td>\n",
       "      <td>2017-04-01 04:00:22</td>\n",
       "      <td>اللهم اهدني فيمن هديت وعافني فيمن عافيت وتولني فيمن توليت ♻️</td>\n",
       "      <td>ftoooxoxo</td>\n",
       "      <td>849785622</td>\n",
       "      <td>ar</td>\n",
       "      <td>-84.157394</td>\n",
       "      <td>34.837520</td>\n",
       "      <td>None</td>\n",
       "    </tr>\n",
       "    <tr>\n",
       "      <th>3</th>\n",
       "      <td>398292</td>\n",
       "      <td>848097695529132033</td>\n",
       "      <td>2017-04-01 04:00:22</td>\n",
       "      <td>Shocking and Stunning Treatment of  Girls and Women that we are importing into the West</td>\n",
       "      <td>trend_auditor</td>\n",
       "      <td>419081441</td>\n",
       "      <td>en</td>\n",
       "      <td>112.722800</td>\n",
       "      <td>-7.457600</td>\n",
       "      <td>None</td>\n",
       "    </tr>\n",
       "    <tr>\n",
       "      <th>4</th>\n",
       "      <td>398293</td>\n",
       "      <td>848097696078602241</td>\n",
       "      <td>2017-04-01 04:00:22</td>\n",
       "      <td>RT : Iranian man sentenced to death for 'insulting Islam' through messaging app</td>\n",
       "      <td>kathy101252</td>\n",
       "      <td>820049807653879808</td>\n",
       "      <td>en</td>\n",
       "      <td>101.380790</td>\n",
       "      <td>4.478324</td>\n",
       "      <td>RT</td>\n",
       "    </tr>\n",
       "  </tbody>\n",
       "</table>\n",
       "</div>"
      ],
      "text/plain": [
       "       id             tweetID                date  \\\n",
       "0  398289  848097694266609664 2017-04-01 04:00:21   \n",
       "1  398290  848097695185215488 2017-04-01 04:00:22   \n",
       "2  398291  848097695613014016 2017-04-01 04:00:22   \n",
       "3  398292  848097695529132033 2017-04-01 04:00:22   \n",
       "4  398293  848097696078602241 2017-04-01 04:00:22   \n",
       "\n",
       "                                                                                   message  \\\n",
       "0                                                      سبحان الله والحمد لله والله أكبر ♻️   \n",
       "1                      RT : He just silenced every Muslim apologist – Israel Video Network   \n",
       "2                             اللهم اهدني فيمن هديت وعافني فيمن عافيت وتولني فيمن توليت ♻️   \n",
       "3  Shocking and Stunning Treatment of  Girls and Women that we are importing into the West   \n",
       "4          RT : Iranian man sentenced to death for 'insulting Islam' through messaging app   \n",
       "\n",
       "        username              userID language   longitude   latitude retweet  \n",
       "0   hebamagdy706          3192656896       en  103.117110   5.321724    None  \n",
       "1    BuggerWorld           166581009       nl  101.594850   3.058207      RT  \n",
       "2      ftoooxoxo           849785622       ar  -84.157394  34.837520    None  \n",
       "3  trend_auditor           419081441       en  112.722800  -7.457600    None  \n",
       "4    kathy101252  820049807653879808       en  101.380790   4.478324      RT  "
      ]
     },
     "execution_count": 6,
     "metadata": {},
     "output_type": "execute_result"
    }
   ],
   "source": [
    "# Inspect the tweets\n",
    "print (sample_df.dtypes)\n",
    "sample_df.head()"
   ]
  },
  {
   "cell_type": "code",
   "execution_count": 7,
   "metadata": {},
   "outputs": [
    {
     "data": {
      "text/plain": [
       "ar       22252\n",
       "en       21739\n",
       "fr        1742\n",
       "es         978\n",
       "id         900\n",
       "en-gb      488\n",
       "de         418\n",
       "nl         389\n",
       "tr         351\n",
       "it         137\n",
       "en-GB      123\n",
       "sv          79\n",
       "pt          75\n",
       "ru          63\n",
       "pl          57\n",
       "ja          46\n",
       "ca          19\n",
       "he          18\n",
       "fi          17\n",
       "ko          16\n",
       "da          14\n",
       "fa          11\n",
       "hi           9\n",
       "cs           9\n",
       "no           8\n",
       "th           7\n",
       "en-AU        7\n",
       "el           7\n",
       "gl           3\n",
       "zh-cn        3\n",
       "hu           3\n",
       "msa          3\n",
       "zh-CN        2\n",
       "eu           2\n",
       "sr           1\n",
       "hr           1\n",
       "ro           1\n",
       "xx-lc        1\n",
       "nb           1\n",
       "Name: language, dtype: int64"
      ]
     },
     "execution_count": 7,
     "metadata": {},
     "output_type": "execute_result"
    }
   ],
   "source": [
    "sample_df.language.value_counts()"
   ]
  },
  {
   "cell_type": "code",
   "execution_count": 8,
   "metadata": {},
   "outputs": [
    {
     "data": {
      "text/plain": [
       "array(['en', 'nl', 'ar', 'id', 'fr', 'tr', 'es', 'en-gb', 'no', 'it',\n",
       "       'pt', 'pl', 'ru', 'de', 'ja', 'en-GB', 'en-AU', 'he', 'ca', 'fi',\n",
       "       'sv', 'da', 'el', 'th', 'eu', 'zh-CN', 'fa', 'cs', 'hi', 'ro',\n",
       "       'gl', 'ko', 'zh-cn', 'xx-lc', 'hu', 'sr', 'msa', 'hr', 'nb'],\n",
       "      dtype=object)"
      ]
     },
     "execution_count": 8,
     "metadata": {},
     "output_type": "execute_result"
    }
   ],
   "source": [
    "sample_df.language.unique()"
   ]
  },
  {
   "cell_type": "markdown",
   "metadata": {},
   "source": [
    "#### Count Null Columns"
   ]
  },
  {
   "cell_type": "code",
   "execution_count": 9,
   "metadata": {},
   "outputs": [
    {
     "data": {
      "text/plain": [
       "message      135\n",
       "retweet    36169\n",
       "dtype: int64"
      ]
     },
     "execution_count": 9,
     "metadata": {},
     "output_type": "execute_result"
    }
   ],
   "source": [
    "null_cols = sample_df.columns[sample_df.isnull().any()]\n",
    "sample_df[null_cols].isnull().sum()"
   ]
  },
  {
   "cell_type": "markdown",
   "metadata": {},
   "source": [
    "#### Duplicate Users"
   ]
  },
  {
   "cell_type": "code",
   "execution_count": 13,
   "metadata": {},
   "outputs": [
    {
     "data": {
      "text/html": [
       "<div>\n",
       "<style scoped>\n",
       "    .dataframe tbody tr th:only-of-type {\n",
       "        vertical-align: middle;\n",
       "    }\n",
       "\n",
       "    .dataframe tbody tr th {\n",
       "        vertical-align: top;\n",
       "    }\n",
       "\n",
       "    .dataframe thead th {\n",
       "        text-align: right;\n",
       "    }\n",
       "</style>\n",
       "<table border=\"1\" class=\"dataframe\">\n",
       "  <thead>\n",
       "    <tr style=\"text-align: right;\">\n",
       "      <th></th>\n",
       "      <th>username</th>\n",
       "      <th>count</th>\n",
       "    </tr>\n",
       "  </thead>\n",
       "  <tbody>\n",
       "    <tr>\n",
       "      <th>508776</th>\n",
       "      <td>TII99</td>\n",
       "      <td>1042</td>\n",
       "    </tr>\n",
       "    <tr>\n",
       "      <th>547824</th>\n",
       "      <td>yammamamalek</td>\n",
       "      <td>926</td>\n",
       "    </tr>\n",
       "    <tr>\n",
       "      <th>237256</th>\n",
       "      <td>islamstoris</td>\n",
       "      <td>740</td>\n",
       "    </tr>\n",
       "    <tr>\n",
       "      <th>443281</th>\n",
       "      <td>saadalqahtani0</td>\n",
       "      <td>728</td>\n",
       "    </tr>\n",
       "    <tr>\n",
       "      <th>39619</th>\n",
       "      <td>alsamer4141</td>\n",
       "      <td>715</td>\n",
       "    </tr>\n",
       "    <tr>\n",
       "      <th>205722</th>\n",
       "      <td>haleem990079</td>\n",
       "      <td>665</td>\n",
       "    </tr>\n",
       "    <tr>\n",
       "      <th>11799</th>\n",
       "      <td>AAL_Tawi</td>\n",
       "      <td>634</td>\n",
       "    </tr>\n",
       "    <tr>\n",
       "      <th>260927</th>\n",
       "      <td>jory217</td>\n",
       "      <td>633</td>\n",
       "    </tr>\n",
       "    <tr>\n",
       "      <th>184283</th>\n",
       "      <td>freeforiraq</td>\n",
       "      <td>630</td>\n",
       "    </tr>\n",
       "    <tr>\n",
       "      <th>244707</th>\n",
       "      <td>JANA_MOHD</td>\n",
       "      <td>628</td>\n",
       "    </tr>\n",
       "    <tr>\n",
       "      <th>21095</th>\n",
       "      <td>adnan66771</td>\n",
       "      <td>628</td>\n",
       "    </tr>\n",
       "    <tr>\n",
       "      <th>181147</th>\n",
       "      <td>foofa12345</td>\n",
       "      <td>627</td>\n",
       "    </tr>\n",
       "    <tr>\n",
       "      <th>346093</th>\n",
       "      <td>mo_alshammari</td>\n",
       "      <td>624</td>\n",
       "    </tr>\n",
       "    <tr>\n",
       "      <th>553873</th>\n",
       "      <td>zadmuslam</td>\n",
       "      <td>623</td>\n",
       "    </tr>\n",
       "    <tr>\n",
       "      <th>11633</th>\n",
       "      <td>a_aldosii</td>\n",
       "      <td>622</td>\n",
       "    </tr>\n",
       "    <tr>\n",
       "      <th>34054</th>\n",
       "      <td>alfalh2222</td>\n",
       "      <td>620</td>\n",
       "    </tr>\n",
       "    <tr>\n",
       "      <th>80857</th>\n",
       "      <td>bho14321</td>\n",
       "      <td>618</td>\n",
       "    </tr>\n",
       "    <tr>\n",
       "      <th>349309</th>\n",
       "      <td>Monemn6789</td>\n",
       "      <td>616</td>\n",
       "    </tr>\n",
       "    <tr>\n",
       "      <th>507461</th>\n",
       "      <td>ThMoudhi</td>\n",
       "      <td>616</td>\n",
       "    </tr>\n",
       "    <tr>\n",
       "      <th>425934</th>\n",
       "      <td>ReemHadeer</td>\n",
       "      <td>615</td>\n",
       "    </tr>\n",
       "  </tbody>\n",
       "</table>\n",
       "</div>"
      ],
      "text/plain": [
       "              username  count\n",
       "508776           TII99   1042\n",
       "547824    yammamamalek    926\n",
       "237256     islamstoris    740\n",
       "443281  saadalqahtani0    728\n",
       "39619      alsamer4141    715\n",
       "205722    haleem990079    665\n",
       "11799         AAL_Tawi    634\n",
       "260927         jory217    633\n",
       "184283     freeforiraq    630\n",
       "244707       JANA_MOHD    628\n",
       "21095       adnan66771    628\n",
       "181147      foofa12345    627\n",
       "346093   mo_alshammari    624\n",
       "553873       zadmuslam    623\n",
       "11633        a_aldosii    622\n",
       "34054       alfalh2222    620\n",
       "80857         bho14321    618\n",
       "349309      Monemn6789    616\n",
       "507461        ThMoudhi    616\n",
       "425934      ReemHadeer    615"
      ]
     },
     "execution_count": 13,
     "metadata": {},
     "output_type": "execute_result"
    }
   ],
   "source": [
    "duplicated_users = pd.read_sql('SELECT username, count(username) FROM raw_tweets WHERE \"language\" ', con=conn)\n",
    "duplicated_users.sort_values('count', ascending=False, inplace=True)\n",
    "duplicated_users.head(20)"
   ]
  },
  {
   "cell_type": "code",
   "execution_count": 17,
   "metadata": {},
   "outputs": [
    {
     "data": {
      "text/html": [
       "<div>\n",
       "<style scoped>\n",
       "    .dataframe tbody tr th:only-of-type {\n",
       "        vertical-align: middle;\n",
       "    }\n",
       "\n",
       "    .dataframe tbody tr th {\n",
       "        vertical-align: top;\n",
       "    }\n",
       "\n",
       "    .dataframe thead th {\n",
       "        text-align: right;\n",
       "    }\n",
       "</style>\n",
       "<table border=\"1\" class=\"dataframe\">\n",
       "  <thead>\n",
       "    <tr style=\"text-align: right;\">\n",
       "      <th></th>\n",
       "      <th>tweetID</th>\n",
       "      <th>message</th>\n",
       "    </tr>\n",
       "  </thead>\n",
       "  <tbody>\n",
       "    <tr>\n",
       "      <th>62</th>\n",
       "      <td>848097722536259585</td>\n",
       "      <td>اللهم صل وسلم على نبينا محمد ♻️</td>\n",
       "    </tr>\n",
       "    <tr>\n",
       "      <th>4211</th>\n",
       "      <td>848460255168270336</td>\n",
       "      <td>سبحان الله وبحمده سبحان الله العظيم ♻️</td>\n",
       "    </tr>\n",
       "    <tr>\n",
       "      <th>6255</th>\n",
       "      <td>848641418805620736</td>\n",
       "      <td>أذكار الأذان:اللهم رب هذه الدعوة التامة والصلاة القائم ♻️</td>\n",
       "    </tr>\n",
       "    <tr>\n",
       "      <th>8076</th>\n",
       "      <td>848822518588854273</td>\n",
       "      <td>لا إله إلا أنت سبحانك إني كنت من الظالمين  ♻️</td>\n",
       "    </tr>\n",
       "    <tr>\n",
       "      <th>9993</th>\n",
       "      <td>849003635669438464</td>\n",
       "      <td>أذكار الأذان:يدعو لنفسه بين الأذان والإقامة فإن الدعاء ♻️</td>\n",
       "    </tr>\n",
       "    <tr>\n",
       "      <th>12200</th>\n",
       "      <td>849184920350195712</td>\n",
       "      <td>الذكر عند الدخول المنزل:بسم الله ولجنا وبسم الله خرجنا ♻️</td>\n",
       "    </tr>\n",
       "    <tr>\n",
       "      <th>14301</th>\n",
       "      <td>849366138505113600</td>\n",
       "      <td>حسبي الله لا إله إلا هو عليه توكلت وهو رب العرش العظيم ♻️</td>\n",
       "    </tr>\n",
       "    <tr>\n",
       "      <th>18075</th>\n",
       "      <td>849728425661280260</td>\n",
       "      <td>اللهم أعذنا من عذاب القبر وعذاب جهنم ♻️</td>\n",
       "    </tr>\n",
       "    <tr>\n",
       "      <th>20061</th>\n",
       "      <td>849909684173721600</td>\n",
       "      <td>اللهم منزل الكتاب سريع الحساب اهزم الأحزاب ♻️</td>\n",
       "    </tr>\n",
       "    <tr>\n",
       "      <th>24159</th>\n",
       "      <td>850272009837715457</td>\n",
       "      <td>سبحان الله والحمد لله والله أكبر ♻️</td>\n",
       "    </tr>\n",
       "    <tr>\n",
       "      <th>28080</th>\n",
       "      <td>850634405655740416</td>\n",
       "      <td>سبحان الله وبحمده عدد خلقه ورضا نفسه وزنة عرشه ومداد كلماته ♻️</td>\n",
       "    </tr>\n",
       "    <tr>\n",
       "      <th>30362</th>\n",
       "      <td>850815697529831426</td>\n",
       "      <td>الذكر عند الدخول المنزل:بسم الله ولجنا وبسم الله خرجنا ♻️</td>\n",
       "    </tr>\n",
       "    <tr>\n",
       "      <th>32165</th>\n",
       "      <td>850996930780041220</td>\n",
       "      <td>أعوذ بكلمات الله التامات من شر ما خلق ♻️</td>\n",
       "    </tr>\n",
       "    <tr>\n",
       "      <th>34231</th>\n",
       "      <td>851178010418061313</td>\n",
       "      <td>أستغفر الله العظيم وأتوب إليه ♻️</td>\n",
       "    </tr>\n",
       "    <tr>\n",
       "      <th>36144</th>\n",
       "      <td>851359192418045952</td>\n",
       "      <td>سبحان الله وبحمده عدد خلقه ورضا نفسه وزنة عرشه ومداد كلماته ♻️</td>\n",
       "    </tr>\n",
       "    <tr>\n",
       "      <th>38361</th>\n",
       "      <td>851540459495313410</td>\n",
       "      <td>اللهم صل وسلم على نبينا محمد ♻️</td>\n",
       "    </tr>\n",
       "    <tr>\n",
       "      <th>40152</th>\n",
       "      <td>851721551376502784</td>\n",
       "      <td>ربِّ أسألك خير ما في هذا اليوم وخير ما بعده ♻️</td>\n",
       "    </tr>\n",
       "    <tr>\n",
       "      <th>42216</th>\n",
       "      <td>851902759360180226</td>\n",
       "      <td>اللهم منزل الكتاب سريع الحساب اهزم الأحزاب ♻️</td>\n",
       "    </tr>\n",
       "    <tr>\n",
       "      <th>44047</th>\n",
       "      <td>852083949958569984</td>\n",
       "      <td>لا إله إلا أنت سبحانك إني كنت من الظالمين  ♻️</td>\n",
       "    </tr>\n",
       "  </tbody>\n",
       "</table>\n",
       "</div>"
      ],
      "text/plain": [
       "                  tweetID  \\\n",
       "62     848097722536259585   \n",
       "4211   848460255168270336   \n",
       "6255   848641418805620736   \n",
       "8076   848822518588854273   \n",
       "9993   849003635669438464   \n",
       "12200  849184920350195712   \n",
       "14301  849366138505113600   \n",
       "18075  849728425661280260   \n",
       "20061  849909684173721600   \n",
       "24159  850272009837715457   \n",
       "28080  850634405655740416   \n",
       "30362  850815697529831426   \n",
       "32165  850996930780041220   \n",
       "34231  851178010418061313   \n",
       "36144  851359192418045952   \n",
       "38361  851540459495313410   \n",
       "40152  851721551376502784   \n",
       "42216  851902759360180226   \n",
       "44047  852083949958569984   \n",
       "\n",
       "                                                              message  \n",
       "62                                    اللهم صل وسلم على نبينا محمد ♻️  \n",
       "4211                           سبحان الله وبحمده سبحان الله العظيم ♻️  \n",
       "6255        أذكار الأذان:اللهم رب هذه الدعوة التامة والصلاة القائم ♻️  \n",
       "8076                    لا إله إلا أنت سبحانك إني كنت من الظالمين  ♻️  \n",
       "9993        أذكار الأذان:يدعو لنفسه بين الأذان والإقامة فإن الدعاء ♻️  \n",
       "12200       الذكر عند الدخول المنزل:بسم الله ولجنا وبسم الله خرجنا ♻️  \n",
       "14301       حسبي الله لا إله إلا هو عليه توكلت وهو رب العرش العظيم ♻️  \n",
       "18075                         اللهم أعذنا من عذاب القبر وعذاب جهنم ♻️  \n",
       "20061                   اللهم منزل الكتاب سريع الحساب اهزم الأحزاب ♻️  \n",
       "24159                             سبحان الله والحمد لله والله أكبر ♻️  \n",
       "28080  سبحان الله وبحمده عدد خلقه ورضا نفسه وزنة عرشه ومداد كلماته ♻️  \n",
       "30362       الذكر عند الدخول المنزل:بسم الله ولجنا وبسم الله خرجنا ♻️  \n",
       "32165                        أعوذ بكلمات الله التامات من شر ما خلق ♻️  \n",
       "34231                                أستغفر الله العظيم وأتوب إليه ♻️  \n",
       "36144  سبحان الله وبحمده عدد خلقه ورضا نفسه وزنة عرشه ومداد كلماته ♻️  \n",
       "38361                                 اللهم صل وسلم على نبينا محمد ♻️  \n",
       "40152                  ربِّ أسألك خير ما في هذا اليوم وخير ما بعده ♻️  \n",
       "42216                   اللهم منزل الكتاب سريع الحساب اهزم الأحزاب ♻️  \n",
       "44047                   لا إله إلا أنت سبحانك إني كنت من الظالمين  ♻️  "
      ]
     },
     "execution_count": 17,
     "metadata": {},
     "output_type": "execute_result"
    }
   ],
   "source": [
    "sample_df[sample_df.username == 'bho14321'][['tweetID', 'message']].head(25)"
   ]
  },
  {
   "cell_type": "code",
   "execution_count": null,
   "metadata": {},
   "outputs": [],
   "source": [
    "# filtering!\n",
    "# happens on three levels (most -> least coarse)\n",
    "# 1. Messages, we need *something*\n",
    "# 2. Language, we need it to be an english variant\n",
    "# 3. Duplicated tweets/spam users\n"
   ]
  },
  {
   "cell_type": "markdown",
   "metadata": {},
   "source": [
    "---\n",
    "\n",
    "### Vectors"
   ]
  },
  {
   "cell_type": "code",
   "execution_count": 18,
   "metadata": {},
   "outputs": [],
   "source": [
    "from gensim.models import KeyedVectors\n",
    "word_f = '../models/word2vec/word.twitter.25d.txt'"
   ]
  },
  {
   "cell_type": "code",
   "execution_count": 19,
   "metadata": {},
   "outputs": [],
   "source": [
    "model = KeyedVectors.load_word2vec_format(word_f, binary=False)"
   ]
  },
  {
   "cell_type": "code",
   "execution_count": 22,
   "metadata": {},
   "outputs": [
    {
     "data": {
      "text/plain": [
       "[('meets', 0.8841923475265503),\n",
       " ('prince', 0.832163393497467),\n",
       " ('queen', 0.8257461190223694),\n",
       " ('’s', 0.8174097537994385),\n",
       " ('crow', 0.8134994506835938),\n",
       " ('hunter', 0.8131038546562195),\n",
       " ('father', 0.811583399772644),\n",
       " ('soldier', 0.8111359477043152),\n",
       " ('mercy', 0.8082392811775208),\n",
       " ('hero', 0.8082262873649597)]"
      ]
     },
     "execution_count": 22,
     "metadata": {},
     "output_type": "execute_result"
    }
   ],
   "source": [
    "model.most_similar(positive=['woman', 'king'], negative=['man'])"
   ]
  },
  {
   "cell_type": "code",
   "execution_count": 23,
   "metadata": {},
   "outputs": [],
   "source": [
    "keywords = ['immigrant', 'immigration', 'islam', 'muslim', 'refugee']"
   ]
  },
  {
   "cell_type": "markdown",
   "metadata": {},
   "source": [
    "---\n",
    "\n",
    "#### NLTK"
   ]
  },
  {
   "cell_type": "code",
   "execution_count": 33,
   "metadata": {},
   "outputs": [],
   "source": [
    "from string import punctuation\n",
    "from nltk.corpus import stopwords\n",
    "from nltk.stem.wordnet import WordNetLemmatizer\n",
    "from nltk import SnowballStemmer"
   ]
  },
  {
   "cell_type": "code",
   "execution_count": 34,
   "metadata": {},
   "outputs": [],
   "source": [
    "lemmas = WordNetLemmatizer()\n",
    "stemmer = SnowballStemmer('english')\n",
    "stops = stopwords.words('english')"
   ]
  },
  {
   "cell_type": "code",
   "execution_count": 37,
   "metadata": {},
   "outputs": [
    {
     "data": {
      "text/plain": [
       "('carasses', 'carass')"
      ]
     },
     "execution_count": 37,
     "metadata": {},
     "output_type": "execute_result"
    }
   ],
   "source": [
    "def lang_root(s):\n",
    "    s = s.lower()\n",
    "    lemmad = lemmas.lemmatize(s)\n",
    "    stemmed = stemmer.stem(lemmad)\n",
    "    \n",
    "    return lemmad, stemmed\n",
    "\n",
    "lang_root('carasses')"
   ]
  },
  {
   "cell_type": "code",
   "execution_count": 51,
   "metadata": {
    "scrolled": true
   },
   "outputs": [
    {
     "name": "stdout",
     "output_type": "stream",
     "text": [
      "immigrant immigrant immigr\n",
      "pos  ['pro-life', 'clergy', 'undocumented', 'migrant', 'communist', 'socialist', 'activist', 'jewish', 'circumcision', 'ugandan']\n",
      "pos (stem) ['inven', 'pakist', 'attra', 'purpo', 'sağlanacak', 'envo', 'safet', 'onest', 'gover', 'di̇r']\n",
      "neg  ['ينآقشك', 'ﺄخر', 'كاان', 'sonrio', 'ھذھ', 'اختلفنا', 'أسعدونا', 'بعضنا', 'ﻓﻳھا', 'مهماا']\n",
      "neg (stem) ['*', 'foto', 'doraemon', 'sambil', 'nonton', 'lagu', 'gangnam', 'nyanyi', 'pengen', 'perahu']\n",
      " \n",
      "immigration immigration immigr\n",
      "pos  ['obamacare', 'legislation', 'policy', 'reform', 'reforms', 'laws', 'government', 'congress', 'labour', 'rights']\n",
      "pos (stem) ['inven', 'pakist', 'attra', 'purpo', 'sağlanacak', 'envo', 'safet', 'onest', 'gover', 'di̇r']\n",
      "neg  ['صرتي', 'ماكانت', '亡くなった方の名誉のため実名で報道させていただきます', 'ايامي', 'الصدف', 'احلامي', 'فعِش', 'تسُعدكَ', 'تبقين', 'ايامنا']\n",
      "neg (stem) ['*', 'foto', 'doraemon', 'sambil', 'nonton', 'lagu', 'gangnam', 'nyanyi', 'pengen', 'perahu']\n",
      " \n",
      "islam islam islam\n",
      "pos  ['muslim', 'dakwah', 'jihad', 'agama', 'kafir', 'umat', 'arab', 'ulama', 'haram', 'muslims']\n",
      "pos (stem) ['muslim', 'dakwah', 'jihad', 'agama', 'kafir', 'umat', 'arab', 'ulama', 'haram', 'muslims']\n",
      "neg  ['nueeeevo', 'برجع', 'jalón', 'たかまるー', 'calooooooooor', 'おぱんつ', 'よろこんでる', 'だいすきだー', 'nこれからもよろしくおねがいします', 'وازيد']\n",
      "neg (stem) ['nueeeevo', 'برجع', 'jalón', 'たかまるー', 'calooooooooor', 'おぱんつ', 'よろこんでる', 'だいすきだー', 'nこれからもよろしくおねがいします', 'وازيد']\n",
      " \n",
      "muslim muslim muslim\n",
      "pos  ['islam', 'jihad', 'muslims', 'hindu', 'islamic', 'leader', 'arab', 'haram', 'support', 'citizens']\n",
      "pos (stem) ['islam', 'jihad', 'muslims', 'hindu', 'islamic', 'leader', 'arab', 'haram', 'support', 'citizens']\n",
      "neg  ['احضر', 'برجع', 'calooooooooor', 'وبرجع', 'ヒャッホー', 'fríoo', 'نتلاقى', 'แอ่ก', 'بتجين', 'غبٺ']\n",
      "neg (stem) ['احضر', 'برجع', 'calooooooooor', 'وبرجع', 'ヒャッホー', 'fríoo', 'نتلاقى', 'แอ่ก', 'بتجين', 'غبٺ']\n",
      " \n",
      "refugee refugee refuge\n",
      "pos  ['palestinian', 'afghan', 'migrant', 'refugees', 'troops', 'algerian', 'iranian', 'syrian', 'libyan', 'settler']\n",
      "pos (stem) ['salvation', 'tranquility', 'repentance', 'reverence', 'anointing', 'sacrifice', 'remembrance', 'abundant', 'compassion', 'mercies']\n",
      "neg  ['ﻓﻳھا', 'まだでしょ', 'あああああああああああああああああああああああああああああああいいいいいいいいいいいいいいいいいいいいいいいいいいいいいいいうううううううううううううううううううううううううううううううえええええええええええええええええええええええええええええええお', '先生ぇっ', 'ﺎكتب', 'مہماا', 'เมะ', 'ﺣﻳن', 'نقدر', 'مهماا']\n",
      "neg (stem) ['万人以上が毎日戦闘中のクラバトで一緒に戦おう', 'まだでしょ', 'نشوف', 'ป่าว', 'หืม', 'おばあちゃん去る', 'проводящих', 'ห๊ะ', 'ماراح', 'إيش']\n",
      " \n"
     ]
    }
   ],
   "source": [
    "for kw in keywords:\n",
    "    lemma, stem = lang_root(kw)\n",
    "    print (kw, lemma, stem)\n",
    "    print ('pos ', [w for (w, p) in model.most_similar(positive=[kw])])\n",
    "    print ('pos (stem)', [w for (w, p) in model.most_similar(positive=[stem])])\n",
    "    print ('neg ', [w for (w, p) in model.most_similar(negative=[kw])])\n",
    "    print ('neg (stem)', [w for (w, p) in model.most_similar(negative=[stem])])\n",
    "    print (' ')"
   ]
  },
  {
   "cell_type": "markdown",
   "metadata": {},
   "source": [
    "***Get all english tweets***\n",
    "\n",
    "> Because we might want to compare the sentiments between different countries/dialects. England + USA vs Australia"
   ]
  },
  {
   "cell_type": "code",
   "execution_count": 56,
   "metadata": {},
   "outputs": [
    {
     "data": {
      "text/plain": [
       "[('ar',),\n",
       " ('en',),\n",
       " ('en',),\n",
       " ('ar',),\n",
       " ('en',),\n",
       " ('ar',),\n",
       " ('ar',),\n",
       " ('en',),\n",
       " ('ar',),\n",
       " ('ar',),\n",
       " ('en',),\n",
       " ('ar',),\n",
       " ('en',),\n",
       " ('ar',),\n",
       " ('en',),\n",
       " ('en',),\n",
       " ('en',),\n",
       " ('en',),\n",
       " ('en',),\n",
       " ('en',)]"
      ]
     },
     "execution_count": 56,
     "metadata": {},
     "output_type": "execute_result"
    }
   ],
   "source": [
    "curr.execute('SELECT substring(language from 1 for 2) FROM raw_tweets LIMIT 20;')\n",
    "curr.fetchall()"
   ]
  },
  {
   "cell_type": "code",
   "execution_count": 68,
   "metadata": {},
   "outputs": [],
   "source": [
    "curr.close()"
   ]
  },
  {
   "cell_type": "code",
   "execution_count": null,
   "metadata": {},
   "outputs": [],
   "source": []
  }
 ],
 "metadata": {
  "kernelspec": {
   "display_name": "Python 3",
   "language": "python",
   "name": "python3"
  },
  "language_info": {
   "codemirror_mode": {
    "name": "ipython",
    "version": 3
   },
   "file_extension": ".py",
   "mimetype": "text/x-python",
   "name": "python",
   "nbconvert_exporter": "python",
   "pygments_lexer": "ipython3",
   "version": "3.6.2"
  }
 },
 "nbformat": 4,
 "nbformat_minor": 2
}
