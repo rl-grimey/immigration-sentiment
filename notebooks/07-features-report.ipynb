{
 "cells": [
  {
   "cell_type": "markdown",
   "metadata": {},
   "source": [
    "# Features Report\n",
    "\n",
    "This notebook is split in 5 parts; an overview of what we've accomplished so far, analysis of the 3 features we've built, and next steps to address.\n",
    "\n",
    "- [Overview of work so far](#overview)\n",
    "- [Language Classification](#lang-classification)\n",
    "- [Geography/Space](#space)\n",
    "- [Time Periods](#time)\n",
    "- [Next Steps](#next-steps)\n",
    "\n",
    "---\n",
    "\n",
    "*Libraries*"
   ]
  },
  {
   "cell_type": "code",
   "execution_count": 1,
   "metadata": {},
   "outputs": [],
   "source": [
    "# Environment\n",
    "import os\n",
    "from dotenv import find_dotenv, load_dotenv\n",
    "\n",
    "# data analysis\n",
    "import pandas as pd\n",
    "import psycopg2 as pg\n",
    "\n",
    "# Visualization\n",
    "import matplotlib.pyplot as plt\n",
    "import seaborn as sns\n",
    "\n",
    "# Prep\n",
    "load_dotenv(find_dotenv())\n",
    "\n",
    "# Dirs\n",
    "project_dir = '../'\n",
    "data_dir = project_dir + 'data/interim/'\n",
    "\n",
    "# Files\n",
    "langids_f = data_dir + 'langids.csv'\n",
    "geoids_f = data_dir + 'geoids.csv'\n",
    "periods_f = data_dir + 'time-periods.csv'\n",
    "\n",
    "# Filter warnigns\n",
    "import warnings\n",
    "warnings.simplefilter(action='ignore', category=FutureWarning)"
   ]
  },
  {
   "cell_type": "markdown",
   "metadata": {},
   "source": [
    "*helper functions*"
   ]
  },
  {
   "cell_type": "code",
   "execution_count": 2,
   "metadata": {},
   "outputs": [],
   "source": [
    "def make_value_counts(df, col, drop=False):\n",
    "    # Count instances of column variables\n",
    "    cnts = df[col].value_counts(dropna=drop)\n",
    "    \n",
    "    # Set the variable index => col\n",
    "    cnts[col] = cnts.index\n",
    "    cnts = cnts.reset_index()\n",
    "    \n",
    "    # Rename column\n",
    "    cnts.rename(inplace=True,\n",
    "                columns={'index': col, col: 'value'})\n",
    "    return cnts\n",
    "\n",
    "def plot_value_counts(val_cnts, x, y, \n",
    "                      title=None, xtitle=None, ytitle=None, scale=None):\n",
    "    \"\"\" Helper function to plot a Pandas Series, created from pandas.DataFrame.xxx.value_counts().\n",
    "    \n",
    "        Args:\n",
    "            - val_cnts (pandas.DataFrame)\n",
    "            - x (str): Column for X axis\n",
    "            - y (str): Column for Y axis\n",
    "            - title (str): OPTIONAL string for plot title\n",
    "            - xtitle (str): OPTIONAL X axis title\n",
    "            - ytitle (str): OPTIONAL Y axis title\n",
    "            - scale (str): OPTIONAL scale\n",
    "        \n",
    "        Returns:\n",
    "            Matplotlib plot\n",
    "    \"\"\"\n",
    "    val_cnts = val_cnts.iloc[:20]                      # Filter if necc.\n",
    "    plt.figure(figsize=(4, 8))                         # Set up\n",
    "    bar = sns.barplot(val_cnts[x], val_cnts[y]) # Map values to markings\n",
    "    \n",
    "    if title is not None: plt.title(title)             # Optionally set title\n",
    "    if xtitle: plt.xlabel(xtitle)\n",
    "    if ytitle: plt.ylabel(ytitle)\n",
    "    \n",
    "    sns.despine()                                      # get rid of heinous border\n",
    "    \n",
    "    with sns.axes_style('whitegrid'):\n",
    "        if scale is not None: bar.set(xscale=scale)    # Temporarily set axis scales\n",
    "        return plt.show()"
   ]
  },
  {
   "cell_type": "markdown",
   "metadata": {},
   "source": [
    "---\n",
    "\n",
    "### 1. [Overview](#overview)\n",
    "\n",
    "We've imported a large amount of Twitter CSV's into our database. Too much in fact, our database is groaning with millions of tweets. We have filtered tweets into a new `SQL` table via a query to make the amount more managable. The query filtered tweets within the date range, RT is null, language is an English subtype, and with valid `lat`/`lng`s. This left us with a little more than 17 million tweets.\n",
    "\n",
    "**English + langid** This still wasn't enough to turn down the noise in the dataset however as a significant # of non-English tweets were still present. We classified most probable message languages by tokenizing via `twokenizer` and running the list through `langid.py`. The script took a significant amount of time to complete, and I dropped non-english tweets from the filter table leaving ~8 million.\n",
    "\n",
    "**Lat/lng + County IDs** Download county shapefiles from the US Census to match tweets to their county of origin. Transformed counties to `EPSG:4326` from `NAD:83` before uploading them to the database as their own table. Assigned a column to a table join on `ST_Intersection(ST_Point(tweet.l, tweet.l))`. \n",
    "\n",
    "**Date + time period** Epoch time calculations. Assigning tweets a time period depending on the delta from the epoch (*Janurary 27th, 2017*)."
   ]
  },
  {
   "cell_type": "markdown",
   "metadata": {},
   "source": [
    "---\n",
    "\n",
    "### 2. [Language Classification](#lang-classification)\n",
    "\n",
    "...with `langid.py`.\n",
    "\n"
   ]
  },
  {
   "cell_type": "code",
   "execution_count": 3,
   "metadata": {},
   "outputs": [
    {
     "name": "stdout",
     "output_type": "stream",
     "text": [
      ",tweetID,message,langid\n",
      "0,826284337024884736,. on : Making America Hate again......immigration; jeff sessions & education,en\n"
     ]
    }
   ],
   "source": [
    "!head -n 2 ../data/interim/langids.csv"
   ]
  },
  {
   "cell_type": "code",
   "execution_count": 4,
   "metadata": {},
   "outputs": [
    {
     "data": {
      "text/html": [
       "<div>\n",
       "<style scoped>\n",
       "    .dataframe tbody tr th:only-of-type {\n",
       "        vertical-align: middle;\n",
       "    }\n",
       "\n",
       "    .dataframe tbody tr th {\n",
       "        vertical-align: top;\n",
       "    }\n",
       "\n",
       "    .dataframe thead th {\n",
       "        text-align: right;\n",
       "    }\n",
       "</style>\n",
       "<table border=\"1\" class=\"dataframe\">\n",
       "  <thead>\n",
       "    <tr style=\"text-align: right;\">\n",
       "      <th></th>\n",
       "      <th>message</th>\n",
       "      <th>langid</th>\n",
       "    </tr>\n",
       "    <tr>\n",
       "      <th>tweetID</th>\n",
       "      <th></th>\n",
       "      <th></th>\n",
       "    </tr>\n",
       "  </thead>\n",
       "  <tbody>\n",
       "    <tr>\n",
       "      <th>826284337024884736</th>\n",
       "      <td>. on : Making America Hate again......immigrat...</td>\n",
       "      <td>en</td>\n",
       "    </tr>\n",
       "    <tr>\n",
       "      <th>826284337259827206</th>\n",
       "      <td>It's not going to be easy being a Muslim in Am...</td>\n",
       "      <td>en</td>\n",
       "    </tr>\n",
       "    <tr>\n",
       "      <th>826284337343639553</th>\n",
       "      <td>WTF is going on? Trump is completely out of co...</td>\n",
       "      <td>en</td>\n",
       "    </tr>\n",
       "    <tr>\n",
       "      <th>826284337838510080</th>\n",
       "      <td>Acting US Attorney General Sally Yates has bee...</td>\n",
       "      <td>en</td>\n",
       "    </tr>\n",
       "    <tr>\n",
       "      <th>826284338035691521</th>\n",
       "      <td>Obama's administration made the 'Muslim ban' p...</td>\n",
       "      <td>en</td>\n",
       "    </tr>\n",
       "  </tbody>\n",
       "</table>\n",
       "</div>"
      ],
      "text/plain": [
       "                                                              message langid\n",
       "tweetID                                                                     \n",
       "826284337024884736  . on : Making America Hate again......immigrat...     en\n",
       "826284337259827206  It's not going to be easy being a Muslim in Am...     en\n",
       "826284337343639553  WTF is going on? Trump is completely out of co...     en\n",
       "826284337838510080  Acting US Attorney General Sally Yates has bee...     en\n",
       "826284338035691521  Obama's administration made the 'Muslim ban' p...     en"
      ]
     },
     "execution_count": 4,
     "metadata": {},
     "output_type": "execute_result"
    }
   ],
   "source": [
    "lang_df = pd.read_csv(langids_f, usecols=['tweetID', 'message', 'langid'], index_col='tweetID')\n",
    "\n",
    "lang_df.head()"
   ]
  },
  {
   "cell_type": "markdown",
   "metadata": {},
   "source": [
    "How many are null?"
   ]
  },
  {
   "cell_type": "code",
   "execution_count": 5,
   "metadata": {},
   "outputs": [
    {
     "name": "stdout",
     "output_type": "stream",
     "text": [
      "Null: 0\n"
     ]
    },
    {
     "data": {
      "text/html": [
       "<div>\n",
       "<style scoped>\n",
       "    .dataframe tbody tr th:only-of-type {\n",
       "        vertical-align: middle;\n",
       "    }\n",
       "\n",
       "    .dataframe tbody tr th {\n",
       "        vertical-align: top;\n",
       "    }\n",
       "\n",
       "    .dataframe thead th {\n",
       "        text-align: right;\n",
       "    }\n",
       "</style>\n",
       "<table border=\"1\" class=\"dataframe\">\n",
       "  <thead>\n",
       "    <tr style=\"text-align: right;\">\n",
       "      <th></th>\n",
       "      <th>message</th>\n",
       "      <th>langid</th>\n",
       "    </tr>\n",
       "    <tr>\n",
       "      <th>tweetID</th>\n",
       "      <th></th>\n",
       "      <th></th>\n",
       "    </tr>\n",
       "  </thead>\n",
       "  <tbody>\n",
       "  </tbody>\n",
       "</table>\n",
       "</div>"
      ],
      "text/plain": [
       "Empty DataFrame\n",
       "Columns: [message, langid]\n",
       "Index: []"
      ]
     },
     "execution_count": 5,
     "metadata": {},
     "output_type": "execute_result"
    }
   ],
   "source": [
    "lang_null_df = lang_df[lang_df.langid.isnull()]\n",
    "num_null = len(lang_null_df.index)\n",
    "\n",
    "print ('Null: {}'.format(num_null))\n",
    "lang_null_df.head()"
   ]
  },
  {
   "cell_type": "markdown",
   "metadata": {},
   "source": [
    "What languages are classified? How many tweets will we lose if we go along with the classifier?"
   ]
  },
  {
   "cell_type": "code",
   "execution_count": 6,
   "metadata": {},
   "outputs": [
    {
     "data": {
      "text/html": [
       "<div>\n",
       "<style scoped>\n",
       "    .dataframe tbody tr th:only-of-type {\n",
       "        vertical-align: middle;\n",
       "    }\n",
       "\n",
       "    .dataframe tbody tr th {\n",
       "        vertical-align: top;\n",
       "    }\n",
       "\n",
       "    .dataframe thead th {\n",
       "        text-align: right;\n",
       "    }\n",
       "</style>\n",
       "<table border=\"1\" class=\"dataframe\">\n",
       "  <thead>\n",
       "    <tr style=\"text-align: right;\">\n",
       "      <th></th>\n",
       "      <th>langid</th>\n",
       "      <th>value</th>\n",
       "    </tr>\n",
       "  </thead>\n",
       "  <tbody>\n",
       "    <tr>\n",
       "      <th>0</th>\n",
       "      <td>en</td>\n",
       "      <td>8497484</td>\n",
       "    </tr>\n",
       "    <tr>\n",
       "      <th>1</th>\n",
       "      <td>ar</td>\n",
       "      <td>6876743</td>\n",
       "    </tr>\n",
       "    <tr>\n",
       "      <th>2</th>\n",
       "      <td>fa</td>\n",
       "      <td>674616</td>\n",
       "    </tr>\n",
       "    <tr>\n",
       "      <th>3</th>\n",
       "      <td>id</td>\n",
       "      <td>520680</td>\n",
       "    </tr>\n",
       "    <tr>\n",
       "      <th>4</th>\n",
       "      <td>ms</td>\n",
       "      <td>156776</td>\n",
       "    </tr>\n",
       "  </tbody>\n",
       "</table>\n",
       "</div>"
      ],
      "text/plain": [
       "  langid    value\n",
       "0     en  8497484\n",
       "1     ar  6876743\n",
       "2     fa   674616\n",
       "3     id   520680\n",
       "4     ms   156776"
      ]
     },
     "execution_count": 6,
     "metadata": {},
     "output_type": "execute_result"
    }
   ],
   "source": [
    "lang_cnts = make_value_counts(lang_df, 'langid')\n",
    "lang_cnts.head()"
   ]
  },
  {
   "cell_type": "code",
   "execution_count": 7,
   "metadata": {},
   "outputs": [
    {
     "data": {
      "image/png": "[encoded data removed]",
      "text/plain": [
       "<Figure size 288x576 with 1 Axes>"
      ]
     },
     "metadata": {},
     "output_type": "display_data"
    }
   ],
   "source": [
    "plot_value_counts(lang_cnts, 'value', 'langid',\n",
    "                  'Language Counts as Classified by `langid.py`', 'Millions of tweets', '`langid` Classification')"
   ]
  },
  {
   "cell_type": "code",
   "execution_count": 8,
   "metadata": {},
   "outputs": [
    {
     "data": {
      "image/png": "[encoded data removed]",
      "text/plain": [
       "<Figure size 288x576 with 1 Axes>"
      ]
     },
     "metadata": {},
     "output_type": "display_data"
    }
   ],
   "source": [
    "plot_value_counts(lang_cnts, 'value', 'langid', title='W/ logarithmic scale', scale='log')"
   ]
  },
  {
   "cell_type": "markdown",
   "metadata": {},
   "source": [
    "What do the (<small>*langid-classified*</small>) non-english tweets look like? Is there an acceptable level of misclassified english tweets?\n",
    "\n",
    "*Re-run 2nd cell for another random sampling*"
   ]
  },
  {
   "cell_type": "code",
   "execution_count": 9,
   "metadata": {},
   "outputs": [],
   "source": [
    "lang_invalid = lang_df[lang_df.langid != 'en']"
   ]
  },
  {
   "cell_type": "code",
   "execution_count": 10,
   "metadata": {},
   "outputs": [
    {
     "data": {
      "text/html": [
       "<div>\n",
       "<style scoped>\n",
       "    .dataframe tbody tr th:only-of-type {\n",
       "        vertical-align: middle;\n",
       "    }\n",
       "\n",
       "    .dataframe tbody tr th {\n",
       "        vertical-align: top;\n",
       "    }\n",
       "\n",
       "    .dataframe thead th {\n",
       "        text-align: right;\n",
       "    }\n",
       "</style>\n",
       "<table border=\"1\" class=\"dataframe\">\n",
       "  <thead>\n",
       "    <tr style=\"text-align: right;\">\n",
       "      <th></th>\n",
       "      <th>message</th>\n",
       "      <th>langid</th>\n",
       "    </tr>\n",
       "    <tr>\n",
       "      <th>tweetID</th>\n",
       "      <th></th>\n",
       "      <th></th>\n",
       "    </tr>\n",
       "  </thead>\n",
       "  <tbody>\n",
       "    <tr>\n",
       "      <th>828095156721221632</th>\n",
       "      <td>Jis Ne Kisi Khair-O-BhaLai K Kaam Ki Taraf Rah...</td>\n",
       "      <td>ms</td>\n",
       "    </tr>\n",
       "    <tr>\n",
       "      <th>816317003594080256</th>\n",
       "      <td>يا حي يا قيوم برحمتك أستغيث أصلح لي شأني كُله  ♻️</td>\n",
       "      <td>ar</td>\n",
       "    </tr>\n",
       "    <tr>\n",
       "      <th>815870721545080832</th>\n",
       "      <td>أذكار الأذان:اللهم رب هذه الدعوة التامة والصلا...</td>\n",
       "      <td>ar</td>\n",
       "    </tr>\n",
       "    <tr>\n",
       "      <th>824349398188617728</th>\n",
       "      <td>اللهم صل وسلم على نبينا محمد ♻️</td>\n",
       "      <td>ar</td>\n",
       "    </tr>\n",
       "    <tr>\n",
       "      <th>827113074263982081</th>\n",
       "      <td>يا حي يا قيوم برحمتك أستغيث أصلح لي شأني كُله  ♻️</td>\n",
       "      <td>ar</td>\n",
       "    </tr>\n",
       "    <tr>\n",
       "      <th>819845068601356288</th>\n",
       "      <td>اللهم لا سهل إلا ما جعلته سهلاً وأنت تجعل الحز...</td>\n",
       "      <td>ar</td>\n",
       "    </tr>\n",
       "    <tr>\n",
       "      <th>823708785986441216</th>\n",
       "      <td>سبحان الله وبحمده سبحان الله العظيم ♻️</td>\n",
       "      <td>ar</td>\n",
       "    </tr>\n",
       "    <tr>\n",
       "      <th>820265741891026945</th>\n",
       "      <td>أعوذ بكلمات الله التامات من شر ما خلق ♻️</td>\n",
       "      <td>ar</td>\n",
       "    </tr>\n",
       "    <tr>\n",
       "      <th>820204077250449408</th>\n",
       "      <td>أذكار الأذان:يدعو لنفسه بين الأذان والإقامة فإ...</td>\n",
       "      <td>ar</td>\n",
       "    </tr>\n",
       "    <tr>\n",
       "      <th>835263965005479940</th>\n",
       "      <td>لا إله إلا أنت سبحانك إني كنت من الظالمين  ♻️</td>\n",
       "      <td>ar</td>\n",
       "    </tr>\n",
       "    <tr>\n",
       "      <th>825888252276137986</th>\n",
       "      <td>الذكر عند الدخول المنزل:بسم الله ولجنا وبسم ال...</td>\n",
       "      <td>fa</td>\n",
       "    </tr>\n",
       "    <tr>\n",
       "      <th>824684017161277441</th>\n",
       "      <td>سبحان الله والحمد لله والله أكبر ♻️</td>\n",
       "      <td>ar</td>\n",
       "    </tr>\n",
       "    <tr>\n",
       "      <th>821676396166737923</th>\n",
       "      <td>اللهم أعذنا من عذاب القبر وعذاب جهنم ♻️</td>\n",
       "      <td>ar</td>\n",
       "    </tr>\n",
       "    <tr>\n",
       "      <th>818076903827533824</th>\n",
       "      <td>اللهم منزل الكتاب سريع الحساب اهزم الأحزاب ♻️</td>\n",
       "      <td>ar</td>\n",
       "    </tr>\n",
       "    <tr>\n",
       "      <th>818235537035296771</th>\n",
       "      <td>سبحان الله وبحمده عدد خلقه ورضا نفسه وزنة عرشه...</td>\n",
       "      <td>fa</td>\n",
       "    </tr>\n",
       "    <tr>\n",
       "      <th>821728752690462720</th>\n",
       "      <td>لا إله إلا أنت سبحانك إني كنت من الظالمين  ♻️</td>\n",
       "      <td>ar</td>\n",
       "    </tr>\n",
       "    <tr>\n",
       "      <th>835093095247187969</th>\n",
       "      <td>bangladeshi muslim village couple Sujon Sharmin</td>\n",
       "      <td>no</td>\n",
       "    </tr>\n",
       "    <tr>\n",
       "      <th>820725270223036416</th>\n",
       "      <td>يا حي يا قيوم برحمتك أستغيث أصلح لي شأني كُله  ♻️</td>\n",
       "      <td>ar</td>\n",
       "    </tr>\n",
       "    <tr>\n",
       "      <th>832552622133481476</th>\n",
       "      <td>Hace unos dias mi cuñado fué agredido por 3 mu...</td>\n",
       "      <td>es</td>\n",
       "    </tr>\n",
       "    <tr>\n",
       "      <th>824429254796574720</th>\n",
       "      <td>لا إله إلا أنت سبحانك إني كنت من الظالمين  ♻️</td>\n",
       "      <td>ar</td>\n",
       "    </tr>\n",
       "    <tr>\n",
       "      <th>823194032834756610</th>\n",
       "      <td>أستغفر الله العظيم وأتوب إليه ♻️</td>\n",
       "      <td>ar</td>\n",
       "    </tr>\n",
       "    <tr>\n",
       "      <th>831272590757003266</th>\n",
       "      <td>اللهم أعذنا من عذاب القبر وعذاب جهنم ♻️</td>\n",
       "      <td>ar</td>\n",
       "    </tr>\n",
       "    <tr>\n",
       "      <th>830771569983156224</th>\n",
       "      <td>اللهم اهدني فيمن هديت وعافني فيمن عافيت وتولني...</td>\n",
       "      <td>ar</td>\n",
       "    </tr>\n",
       "    <tr>\n",
       "      <th>824205072737320961</th>\n",
       "      <td>Dalam ajaran islam; dunia ini harus diterima d...</td>\n",
       "      <td>id</td>\n",
       "    </tr>\n",
       "    <tr>\n",
       "      <th>833023382933368833</th>\n",
       "      <td>من كان آخر كلامه لا إله إلا الله دخل الجنة ♻️</td>\n",
       "      <td>ar</td>\n",
       "    </tr>\n",
       "  </tbody>\n",
       "</table>\n",
       "</div>"
      ],
      "text/plain": [
       "                                                              message langid\n",
       "tweetID                                                                     \n",
       "828095156721221632  Jis Ne Kisi Khair-O-BhaLai K Kaam Ki Taraf Rah...     ms\n",
       "816317003594080256  يا حي يا قيوم برحمتك أستغيث أصلح لي شأني كُله  ♻️     ar\n",
       "815870721545080832  أذكار الأذان:اللهم رب هذه الدعوة التامة والصلا...     ar\n",
       "824349398188617728                    اللهم صل وسلم على نبينا محمد ♻️     ar\n",
       "827113074263982081  يا حي يا قيوم برحمتك أستغيث أصلح لي شأني كُله  ♻️     ar\n",
       "819845068601356288  اللهم لا سهل إلا ما جعلته سهلاً وأنت تجعل الحز...     ar\n",
       "823708785986441216             سبحان الله وبحمده سبحان الله العظيم ♻️     ar\n",
       "820265741891026945           أعوذ بكلمات الله التامات من شر ما خلق ♻️     ar\n",
       "820204077250449408  أذكار الأذان:يدعو لنفسه بين الأذان والإقامة فإ...     ar\n",
       "835263965005479940      لا إله إلا أنت سبحانك إني كنت من الظالمين  ♻️     ar\n",
       "825888252276137986  الذكر عند الدخول المنزل:بسم الله ولجنا وبسم ال...     fa\n",
       "824684017161277441                سبحان الله والحمد لله والله أكبر ♻️     ar\n",
       "821676396166737923            اللهم أعذنا من عذاب القبر وعذاب جهنم ♻️     ar\n",
       "818076903827533824      اللهم منزل الكتاب سريع الحساب اهزم الأحزاب ♻️     ar\n",
       "818235537035296771  سبحان الله وبحمده عدد خلقه ورضا نفسه وزنة عرشه...     fa\n",
       "821728752690462720      لا إله إلا أنت سبحانك إني كنت من الظالمين  ♻️     ar\n",
       "835093095247187969    bangladeshi muslim village couple Sujon Sharmin     no\n",
       "820725270223036416  يا حي يا قيوم برحمتك أستغيث أصلح لي شأني كُله  ♻️     ar\n",
       "832552622133481476  Hace unos dias mi cuñado fué agredido por 3 mu...     es\n",
       "824429254796574720      لا إله إلا أنت سبحانك إني كنت من الظالمين  ♻️     ar\n",
       "823194032834756610                   أستغفر الله العظيم وأتوب إليه ♻️     ar\n",
       "831272590757003266            اللهم أعذنا من عذاب القبر وعذاب جهنم ♻️     ar\n",
       "830771569983156224  اللهم اهدني فيمن هديت وعافني فيمن عافيت وتولني...     ar\n",
       "824205072737320961  Dalam ajaran islam; dunia ini harus diterima d...     id\n",
       "833023382933368833      من كان آخر كلامه لا إله إلا الله دخل الجنة ♻️     ar"
      ]
     },
     "execution_count": 10,
     "metadata": {},
     "output_type": "execute_result"
    }
   ],
   "source": [
    "lang_invalid[['message', 'langid']].sample(25)"
   ]
  },
  {
   "cell_type": "markdown",
   "metadata": {},
   "source": [
    "**Takeways?**\n",
    "\n",
    "- Arabic was *very* popular, almost more popular than english. But Farsi and Indian were also popular.\n",
    "\n",
    "---\n",
    "\n",
    "### 3. [Space classification](#space) 🌎 🗺️ \n",
    "\n",
    "\n",
    "This is less comprehensive... Because it was extracted from the Postgres table `filter_tweets`, which had non-english tweets dropped from it. The data was created by joining the filtered tweets on the counties table with the following SQL query:\n",
    "\n",
    "    SELECT \n",
    "        filter_tweets.\"tweetID\",\n",
    "        counties.geoid \n",
    "    FROM\n",
    "        filter_tweets \n",
    "    LEFT OUTER JOIN\n",
    "        counties \n",
    "    ON\n",
    "        ST_Intersects(\n",
    "            ST_SetSRID(\n",
    "                ST_MakePoint(filter_tweets.longitude, filter_tweets.latitude), \n",
    "                4326),\n",
    "            counties.geom\n",
    "        );\n",
    "        \n",
    "Before we start, let's take a peek at the data so we know what to read in."
   ]
  },
  {
   "cell_type": "code",
   "execution_count": 11,
   "metadata": {},
   "outputs": [
    {
     "name": "stdout",
     "output_type": "stream",
     "text": [
      ",tweetID,geoid\n",
      "0,826484798478770176,48453\n"
     ]
    }
   ],
   "source": [
    "!head -n 2 ../data/interim/geoids.csv"
   ]
  },
  {
   "cell_type": "code",
   "execution_count": 12,
   "metadata": {},
   "outputs": [
    {
     "name": "stdout",
     "output_type": "stream",
     "text": [
      "Tot: 8497484\n",
      "Located: 2195819\n",
      "Not: 6301665\n",
      "\n",
      "\n"
     ]
    },
    {
     "data": {
      "text/html": [
       "<div>\n",
       "<style scoped>\n",
       "    .dataframe tbody tr th:only-of-type {\n",
       "        vertical-align: middle;\n",
       "    }\n",
       "\n",
       "    .dataframe tbody tr th {\n",
       "        vertical-align: top;\n",
       "    }\n",
       "\n",
       "    .dataframe thead th {\n",
       "        text-align: right;\n",
       "    }\n",
       "</style>\n",
       "<table border=\"1\" class=\"dataframe\">\n",
       "  <thead>\n",
       "    <tr style=\"text-align: right;\">\n",
       "      <th></th>\n",
       "      <th>geoid</th>\n",
       "    </tr>\n",
       "    <tr>\n",
       "      <th>tweetID</th>\n",
       "      <th></th>\n",
       "    </tr>\n",
       "  </thead>\n",
       "  <tbody>\n",
       "    <tr>\n",
       "      <th>826484798478770176</th>\n",
       "      <td>48453</td>\n",
       "    </tr>\n",
       "    <tr>\n",
       "      <th>826484798583603201</th>\n",
       "      <td>01125</td>\n",
       "    </tr>\n",
       "    <tr>\n",
       "      <th>826484799263141888</th>\n",
       "      <td>08031</td>\n",
       "    </tr>\n",
       "    <tr>\n",
       "      <th>826484799342800896</th>\n",
       "      <td>06073</td>\n",
       "    </tr>\n",
       "    <tr>\n",
       "      <th>826484799527329792</th>\n",
       "      <td>NaN</td>\n",
       "    </tr>\n",
       "  </tbody>\n",
       "</table>\n",
       "</div>"
      ],
      "text/plain": [
       "                    geoid\n",
       "tweetID                  \n",
       "826484798478770176  48453\n",
       "826484798583603201  01125\n",
       "826484799263141888  08031\n",
       "826484799342800896  06073\n",
       "826484799527329792    NaN"
      ]
     },
     "execution_count": 12,
     "metadata": {},
     "output_type": "execute_result"
    }
   ],
   "source": [
    "# Read in the geography\n",
    "geo_df = pd.read_csv(geoids_f, usecols=['tweetID', 'geoid'], index_col='tweetID',\n",
    "                    dtype={'geoid': str})\n",
    "\n",
    "# Gather counts\n",
    "geo_tot = len(geo_df.index)\n",
    "geo_located = len(geo_df[geo_df['geoid'].isnull() == False])\n",
    "geo_n_located = len(geo_df[geo_df['geoid'].isnull()])\n",
    "\n",
    "# Report out\n",
    "print ('Tot: {}\\nLocated: {}\\nNot: {}\\n\\n'.format(geo_tot, geo_located, geo_n_located))\n",
    "\n",
    "geo_df.head()"
   ]
  },
  {
   "cell_type": "markdown",
   "metadata": {},
   "source": [
    "What are the most active counties?"
   ]
  },
  {
   "cell_type": "code",
   "execution_count": 13,
   "metadata": {},
   "outputs": [
    {
     "name": "stdout",
     "output_type": "stream",
     "text": [
      "430 counties matched\n",
      "\n",
      "\n"
     ]
    },
    {
     "data": {
      "text/html": [
       "<div>\n",
       "<style scoped>\n",
       "    .dataframe tbody tr th:only-of-type {\n",
       "        vertical-align: middle;\n",
       "    }\n",
       "\n",
       "    .dataframe tbody tr th {\n",
       "        vertical-align: top;\n",
       "    }\n",
       "\n",
       "    .dataframe thead th {\n",
       "        text-align: right;\n",
       "    }\n",
       "</style>\n",
       "<table border=\"1\" class=\"dataframe\">\n",
       "  <thead>\n",
       "    <tr style=\"text-align: right;\">\n",
       "      <th></th>\n",
       "      <th>geoid</th>\n",
       "      <th>value</th>\n",
       "    </tr>\n",
       "  </thead>\n",
       "  <tbody>\n",
       "    <tr>\n",
       "      <th>0</th>\n",
       "      <td>NaN</td>\n",
       "      <td>6301665</td>\n",
       "    </tr>\n",
       "    <tr>\n",
       "      <th>1</th>\n",
       "      <td>36061</td>\n",
       "      <td>210637</td>\n",
       "    </tr>\n",
       "    <tr>\n",
       "      <th>2</th>\n",
       "      <td>06037</td>\n",
       "      <td>185091</td>\n",
       "    </tr>\n",
       "    <tr>\n",
       "      <th>3</th>\n",
       "      <td>11001</td>\n",
       "      <td>115623</td>\n",
       "    </tr>\n",
       "    <tr>\n",
       "      <th>4</th>\n",
       "      <td>17031</td>\n",
       "      <td>72996</td>\n",
       "    </tr>\n",
       "  </tbody>\n",
       "</table>\n",
       "</div>"
      ],
      "text/plain": [
       "   geoid    value\n",
       "0    NaN  6301665\n",
       "1  36061   210637\n",
       "2  06037   185091\n",
       "3  11001   115623\n",
       "4  17031    72996"
      ]
     },
     "execution_count": 13,
     "metadata": {},
     "output_type": "execute_result"
    }
   ],
   "source": [
    "cnty_cnts = make_value_counts(geo_df, 'geoid')\n",
    "cnty_cnt = len(cnty_cnts.index)\n",
    "\n",
    "print ('{} counties matched\\n\\n'.format(cnty_cnt))\n",
    "cnty_cnts.head()"
   ]
  },
  {
   "cell_type": "code",
   "execution_count": 14,
   "metadata": {},
   "outputs": [],
   "source": [
    "#plot_value_counts(cnty_cnts, 'value', 'geoid',\n",
    "#                  'County-Tweet Intersection Counts using EPSG:4326', 'cnt', 'County')"
   ]
  },
  {
   "cell_type": "markdown",
   "metadata": {},
   "source": [
    "---\n",
    "\n",
    "### 4. [Time Periods](#time) 📅 🕑\n",
    "\n",
    "Note, in my original filter SQL query I used date instead of timestamp to select rows. I had not yet done the epoch calculations yet."
   ]
  },
  {
   "cell_type": "code",
   "execution_count": 15,
   "metadata": {},
   "outputs": [
    {
     "name": "stdout",
     "output_type": "stream",
     "text": [
      "tweetID,date,period\n",
      "826601467255595008,2017-01-31 19:22:01,1\n",
      "826601469017194496,2017-01-31 19:22:02,1\n"
     ]
    }
   ],
   "source": [
    "!head -n 3 ../data/interim/time-periods.csv"
   ]
  },
  {
   "cell_type": "code",
   "execution_count": 16,
   "metadata": {},
   "outputs": [
    {
     "name": "stdout",
     "output_type": "stream",
     "text": [
      "Tot: 8497484\n",
      "Valid: 8481688\n",
      "Not: 15796\n",
      "\n",
      "\n"
     ]
    },
    {
     "data": {
      "text/html": [
       "<div>\n",
       "<style scoped>\n",
       "    .dataframe tbody tr th:only-of-type {\n",
       "        vertical-align: middle;\n",
       "    }\n",
       "\n",
       "    .dataframe tbody tr th {\n",
       "        vertical-align: top;\n",
       "    }\n",
       "\n",
       "    .dataframe thead th {\n",
       "        text-align: right;\n",
       "    }\n",
       "</style>\n",
       "<table border=\"1\" class=\"dataframe\">\n",
       "  <thead>\n",
       "    <tr style=\"text-align: right;\">\n",
       "      <th></th>\n",
       "      <th>tweetID</th>\n",
       "      <th>period</th>\n",
       "    </tr>\n",
       "    <tr>\n",
       "      <th>date</th>\n",
       "      <th></th>\n",
       "      <th></th>\n",
       "    </tr>\n",
       "  </thead>\n",
       "  <tbody>\n",
       "    <tr>\n",
       "      <th>2017-01-31 19:22:01</th>\n",
       "      <td>826601467255595008</td>\n",
       "      <td>1.0</td>\n",
       "    </tr>\n",
       "    <tr>\n",
       "      <th>2017-01-31 19:22:02</th>\n",
       "      <td>826601469017194496</td>\n",
       "      <td>1.0</td>\n",
       "    </tr>\n",
       "    <tr>\n",
       "      <th>2017-01-31 19:22:02</th>\n",
       "      <td>826601470044803073</td>\n",
       "      <td>1.0</td>\n",
       "    </tr>\n",
       "    <tr>\n",
       "      <th>2017-01-31 19:22:02</th>\n",
       "      <td>826601470321639425</td>\n",
       "      <td>1.0</td>\n",
       "    </tr>\n",
       "    <tr>\n",
       "      <th>2017-01-31 19:22:02</th>\n",
       "      <td>826601470531219456</td>\n",
       "      <td>1.0</td>\n",
       "    </tr>\n",
       "  </tbody>\n",
       "</table>\n",
       "</div>"
      ],
      "text/plain": [
       "                                tweetID  period\n",
       "date                                           \n",
       "2017-01-31 19:22:01  826601467255595008     1.0\n",
       "2017-01-31 19:22:02  826601469017194496     1.0\n",
       "2017-01-31 19:22:02  826601470044803073     1.0\n",
       "2017-01-31 19:22:02  826601470321639425     1.0\n",
       "2017-01-31 19:22:02  826601470531219456     1.0"
      ]
     },
     "execution_count": 16,
     "metadata": {},
     "output_type": "execute_result"
    }
   ],
   "source": [
    "date_df = pd.read_csv(periods_f, index_col='date', parse_dates=['date'], infer_datetime_format=True)\n",
    "\n",
    "# Gather counts\n",
    "date_tot = len(date_df.index)\n",
    "date_valid = len(date_df[date_df['period'].isnull() == False])\n",
    "date_n_valid = len(date_df[date_df['period'].isnull()])\n",
    "\n",
    "# Report out\n",
    "print ('Tot: {}\\nValid: {}\\nNot: {}\\n\\n'.format(date_tot, date_valid, date_n_valid))\n",
    "\n",
    "date_df.head()"
   ]
  },
  {
   "cell_type": "markdown",
   "metadata": {},
   "source": [
    "What is the distribution of the time periods?"
   ]
  },
  {
   "cell_type": "code",
   "execution_count": 17,
   "metadata": {},
   "outputs": [
    {
     "data": {
      "text/html": [
       "<div>\n",
       "<style scoped>\n",
       "    .dataframe tbody tr th:only-of-type {\n",
       "        vertical-align: middle;\n",
       "    }\n",
       "\n",
       "    .dataframe tbody tr th {\n",
       "        vertical-align: top;\n",
       "    }\n",
       "\n",
       "    .dataframe thead th {\n",
       "        text-align: right;\n",
       "    }\n",
       "</style>\n",
       "<table border=\"1\" class=\"dataframe\">\n",
       "  <thead>\n",
       "    <tr style=\"text-align: right;\">\n",
       "      <th></th>\n",
       "      <th>period</th>\n",
       "      <th>value</th>\n",
       "    </tr>\n",
       "  </thead>\n",
       "  <tbody>\n",
       "    <tr>\n",
       "      <th>7</th>\n",
       "      <td>-4</td>\n",
       "      <td>433931</td>\n",
       "    </tr>\n",
       "    <tr>\n",
       "      <th>6</th>\n",
       "      <td>-3</td>\n",
       "      <td>455914</td>\n",
       "    </tr>\n",
       "    <tr>\n",
       "      <th>5</th>\n",
       "      <td>-2</td>\n",
       "      <td>503966</td>\n",
       "    </tr>\n",
       "    <tr>\n",
       "      <th>4</th>\n",
       "      <td>-1</td>\n",
       "      <td>761360</td>\n",
       "    </tr>\n",
       "    <tr>\n",
       "      <th>8</th>\n",
       "      <td>0</td>\n",
       "      <td>256522</td>\n",
       "    </tr>\n",
       "    <tr>\n",
       "      <th>0</th>\n",
       "      <td>1</td>\n",
       "      <td>2720842</td>\n",
       "    </tr>\n",
       "    <tr>\n",
       "      <th>1</th>\n",
       "      <td>2</td>\n",
       "      <td>1345327</td>\n",
       "    </tr>\n",
       "    <tr>\n",
       "      <th>3</th>\n",
       "      <td>3</td>\n",
       "      <td>988961</td>\n",
       "    </tr>\n",
       "    <tr>\n",
       "      <th>2</th>\n",
       "      <td>4</td>\n",
       "      <td>1014865</td>\n",
       "    </tr>\n",
       "  </tbody>\n",
       "</table>\n",
       "</div>"
      ],
      "text/plain": [
       "  period    value\n",
       "7     -4   433931\n",
       "6     -3   455914\n",
       "5     -2   503966\n",
       "4     -1   761360\n",
       "8      0   256522\n",
       "0      1  2720842\n",
       "1      2  1345327\n",
       "3      3   988961\n",
       "2      4  1014865"
      ]
     },
     "execution_count": 17,
     "metadata": {},
     "output_type": "execute_result"
    }
   ],
   "source": [
    "period_cnts = make_value_counts(date_df, 'period', drop=True)[:9]\n",
    "period_cnts.sort_values('period', inplace=True)\n",
    "period_cnts.iloc[:]"
   ]
  },
  {
   "cell_type": "code",
   "execution_count": 18,
   "metadata": {},
   "outputs": [
    {
     "data": {
      "image/png": "[encoded data removed]",
      "text/plain": [
       "<Figure size 288x576 with 1 Axes>"
      ]
     },
     "metadata": {},
     "output_type": "display_data"
    }
   ],
   "source": [
    "plot_value_counts(period_cnts, 'period', 'value',\n",
    "                 'Tweets per time period', 'Time Period', 'Count')"
   ]
  },
  {
   "cell_type": "markdown",
   "metadata": {},
   "source": [
    "How many were there by date?"
   ]
  },
  {
   "cell_type": "code",
   "execution_count": 19,
   "metadata": {},
   "outputs": [],
   "source": [
    "# Add the date as a column\n",
    "date_df.reset_index(inplace=True)\n",
    "\n",
    "# Rename our erroneous date index to a more accurate 'timestamp'\n",
    "date_df.rename(columns={'date': 'timestamp'}, inplace=True)\n",
    "\n",
    "# Create a pure date column\n",
    "date_df.loc[:, 'date'] = date_df.timestamp.apply(lambda x: str(x.date()))"
   ]
  },
  {
   "cell_type": "code",
   "execution_count": 20,
   "metadata": {},
   "outputs": [
    {
     "data": {
      "text/html": [
       "<div>\n",
       "<style scoped>\n",
       "    .dataframe tbody tr th:only-of-type {\n",
       "        vertical-align: middle;\n",
       "    }\n",
       "\n",
       "    .dataframe tbody tr th {\n",
       "        vertical-align: top;\n",
       "    }\n",
       "\n",
       "    .dataframe thead th {\n",
       "        text-align: right;\n",
       "    }\n",
       "</style>\n",
       "<table border=\"1\" class=\"dataframe\">\n",
       "  <thead>\n",
       "    <tr style=\"text-align: right;\">\n",
       "      <th></th>\n",
       "      <th>timestamp</th>\n",
       "      <th>tweetID</th>\n",
       "      <th>period</th>\n",
       "      <th>date</th>\n",
       "    </tr>\n",
       "  </thead>\n",
       "  <tbody>\n",
       "    <tr>\n",
       "      <th>0</th>\n",
       "      <td>2017-01-31 19:22:01</td>\n",
       "      <td>826601467255595008</td>\n",
       "      <td>1.0</td>\n",
       "      <td>2017-01-31</td>\n",
       "    </tr>\n",
       "    <tr>\n",
       "      <th>1</th>\n",
       "      <td>2017-01-31 19:22:02</td>\n",
       "      <td>826601469017194496</td>\n",
       "      <td>1.0</td>\n",
       "      <td>2017-01-31</td>\n",
       "    </tr>\n",
       "    <tr>\n",
       "      <th>2</th>\n",
       "      <td>2017-01-31 19:22:02</td>\n",
       "      <td>826601470044803073</td>\n",
       "      <td>1.0</td>\n",
       "      <td>2017-01-31</td>\n",
       "    </tr>\n",
       "    <tr>\n",
       "      <th>3</th>\n",
       "      <td>2017-01-31 19:22:02</td>\n",
       "      <td>826601470321639425</td>\n",
       "      <td>1.0</td>\n",
       "      <td>2017-01-31</td>\n",
       "    </tr>\n",
       "    <tr>\n",
       "      <th>4</th>\n",
       "      <td>2017-01-31 19:22:02</td>\n",
       "      <td>826601470531219456</td>\n",
       "      <td>1.0</td>\n",
       "      <td>2017-01-31</td>\n",
       "    </tr>\n",
       "  </tbody>\n",
       "</table>\n",
       "</div>"
      ],
      "text/plain": [
       "            timestamp             tweetID  period        date\n",
       "0 2017-01-31 19:22:01  826601467255595008     1.0  2017-01-31\n",
       "1 2017-01-31 19:22:02  826601469017194496     1.0  2017-01-31\n",
       "2 2017-01-31 19:22:02  826601470044803073     1.0  2017-01-31\n",
       "3 2017-01-31 19:22:02  826601470321639425     1.0  2017-01-31\n",
       "4 2017-01-31 19:22:02  826601470531219456     1.0  2017-01-31"
      ]
     },
     "execution_count": 20,
     "metadata": {},
     "output_type": "execute_result"
    }
   ],
   "source": [
    "date_df.head()"
   ]
  },
  {
   "cell_type": "code",
   "execution_count": 21,
   "metadata": {},
   "outputs": [],
   "source": [
    "date_cnts = make_value_counts(date_df, 'date')\n",
    "#date_cnts.loc[:, 'date'] = pd.to_datetime(date_cnts['date'], format='%Y-%m-%d')\n",
    "#plot_value_counts(date_cnts, 'date', 'value')"
   ]
  },
  {
   "cell_type": "code",
   "execution_count": 22,
   "metadata": {},
   "outputs": [
    {
     "data": {
      "text/plain": [
       "date     object\n",
       "value    object\n",
       "dtype: object"
      ]
     },
     "execution_count": 22,
     "metadata": {},
     "output_type": "execute_result"
    }
   ],
   "source": [
    "#plt.figure(figsize=(12, 5))\n",
    "date_cnts.dtypes"
   ]
  },
  {
   "cell_type": "code",
   "execution_count": null,
   "metadata": {},
   "outputs": [],
   "source": [
    "#### STILL NEEDS VISUALIZATION"
   ]
  },
  {
   "cell_type": "code",
   "execution_count": null,
   "metadata": {},
   "outputs": [],
   "source": []
  },
  {
   "cell_type": "code",
   "execution_count": null,
   "metadata": {},
   "outputs": [],
   "source": []
  },
  {
   "cell_type": "code",
   "execution_count": null,
   "metadata": {},
   "outputs": [],
   "source": []
  },
  {
   "cell_type": "markdown",
   "metadata": {},
   "source": [
    "---\n",
    "\n",
    "### Next Steps\n",
    "\n",
    "1. Take a look at the languages as from `langid.py`\n",
    "2. Reproject the counties to Albers Equal Area\n",
    "3. Time periods is good ✅\n",
    "\n",
    "**Merging into Canonical Dataset** Although we still have some reshaping to do for the canonical dataset, the merging process will be the same.\n",
    "\n",
    "Grab only the valid rows from the calculated dataframes."
   ]
  },
  {
   "cell_type": "code",
   "execution_count": 24,
   "metadata": {},
   "outputs": [],
   "source": [
    "slim_lang_df = lang_df[lang_df.langid == 'en']\n",
    "slim_geo_df = geo_df.dropna(subset=['geoid'])\n",
    "slim_date_df = date_df[date_df.period.isnull() == False][['tweetID', 'period']].set_index('tweetID')"
   ]
  },
  {
   "cell_type": "markdown",
   "metadata": {},
   "source": [
    "Merge the dataframes by joining them on their indices (`tweetID`)."
   ]
  },
  {
   "cell_type": "code",
   "execution_count": 25,
   "metadata": {},
   "outputs": [
    {
     "name": "stdout",
     "output_type": "stream",
     "text": [
      "valid space and time tweets: 2195340\n",
      "\n"
     ]
    },
    {
     "data": {
      "text/html": [
       "<div>\n",
       "<style scoped>\n",
       "    .dataframe tbody tr th:only-of-type {\n",
       "        vertical-align: middle;\n",
       "    }\n",
       "\n",
       "    .dataframe tbody tr th {\n",
       "        vertical-align: top;\n",
       "    }\n",
       "\n",
       "    .dataframe thead th {\n",
       "        text-align: right;\n",
       "    }\n",
       "</style>\n",
       "<table border=\"1\" class=\"dataframe\">\n",
       "  <thead>\n",
       "    <tr style=\"text-align: right;\">\n",
       "      <th></th>\n",
       "      <th>period</th>\n",
       "      <th>geoid</th>\n",
       "    </tr>\n",
       "    <tr>\n",
       "      <th>tweetID</th>\n",
       "      <th></th>\n",
       "      <th></th>\n",
       "    </tr>\n",
       "  </thead>\n",
       "  <tbody>\n",
       "    <tr>\n",
       "      <th>826601467255595008</th>\n",
       "      <td>1.0</td>\n",
       "      <td>51107</td>\n",
       "    </tr>\n",
       "  </tbody>\n",
       "</table>\n",
       "</div>"
      ],
      "text/plain": [
       "                    period  geoid\n",
       "tweetID                          \n",
       "826601467255595008     1.0  51107"
      ]
     },
     "execution_count": 25,
     "metadata": {},
     "output_type": "execute_result"
    }
   ],
   "source": [
    "space_and_time = pd.merge(slim_date_df, slim_geo_df, left_index=True, right_index=True)\n",
    "print ('valid space and time tweets: {}\\n'.format(len(space_and_time.index)))\n",
    "space_and_time.head(1)"
   ]
  },
  {
   "cell_type": "code",
   "execution_count": 26,
   "metadata": {},
   "outputs": [
    {
     "name": "stdout",
     "output_type": "stream",
     "text": [
      "All valid tweets: 2195340\n",
      "\n"
     ]
    },
    {
     "data": {
      "text/html": [
       "<div>\n",
       "<style scoped>\n",
       "    .dataframe tbody tr th:only-of-type {\n",
       "        vertical-align: middle;\n",
       "    }\n",
       "\n",
       "    .dataframe tbody tr th {\n",
       "        vertical-align: top;\n",
       "    }\n",
       "\n",
       "    .dataframe thead th {\n",
       "        text-align: right;\n",
       "    }\n",
       "</style>\n",
       "<table border=\"1\" class=\"dataframe\">\n",
       "  <thead>\n",
       "    <tr style=\"text-align: right;\">\n",
       "      <th></th>\n",
       "      <th>message</th>\n",
       "      <th>langid</th>\n",
       "      <th>period</th>\n",
       "      <th>geoid</th>\n",
       "    </tr>\n",
       "    <tr>\n",
       "      <th>tweetID</th>\n",
       "      <th></th>\n",
       "      <th></th>\n",
       "      <th></th>\n",
       "      <th></th>\n",
       "    </tr>\n",
       "  </thead>\n",
       "  <tbody>\n",
       "    <tr>\n",
       "      <th>826284337259827206</th>\n",
       "      <td>It's not going to be easy being a Muslim in Am...</td>\n",
       "      <td>en</td>\n",
       "      <td>1.0</td>\n",
       "      <td>11001</td>\n",
       "    </tr>\n",
       "    <tr>\n",
       "      <th>826284337343639553</th>\n",
       "      <td>WTF is going on? Trump is completely out of co...</td>\n",
       "      <td>en</td>\n",
       "      <td>1.0</td>\n",
       "      <td>06075</td>\n",
       "    </tr>\n",
       "    <tr>\n",
       "      <th>826284337838510080</th>\n",
       "      <td>Acting US Attorney General Sally Yates has bee...</td>\n",
       "      <td>en</td>\n",
       "      <td>1.0</td>\n",
       "      <td>51059</td>\n",
       "    </tr>\n",
       "    <tr>\n",
       "      <th>826284338035691521</th>\n",
       "      <td>Obama's administration made the 'Muslim ban' p...</td>\n",
       "      <td>en</td>\n",
       "      <td>1.0</td>\n",
       "      <td>06037</td>\n",
       "    </tr>\n",
       "    <tr>\n",
       "      <th>826284338920751104</th>\n",
       "      <td>...we are weaker when divided..its time 4 a Mu...</td>\n",
       "      <td>en</td>\n",
       "      <td>1.0</td>\n",
       "      <td>36061</td>\n",
       "    </tr>\n",
       "  </tbody>\n",
       "</table>\n",
       "</div>"
      ],
      "text/plain": [
       "                                                              message langid  \\\n",
       "tweetID                                                                        \n",
       "826284337259827206  It's not going to be easy being a Muslim in Am...     en   \n",
       "826284337343639553  WTF is going on? Trump is completely out of co...     en   \n",
       "826284337838510080  Acting US Attorney General Sally Yates has bee...     en   \n",
       "826284338035691521  Obama's administration made the 'Muslim ban' p...     en   \n",
       "826284338920751104  ...we are weaker when divided..its time 4 a Mu...     en   \n",
       "\n",
       "                    period  geoid  \n",
       "tweetID                            \n",
       "826284337259827206     1.0  11001  \n",
       "826284337343639553     1.0  06075  \n",
       "826284337838510080     1.0  51059  \n",
       "826284338035691521     1.0  06037  \n",
       "826284338920751104     1.0  36061  "
      ]
     },
     "execution_count": 26,
     "metadata": {},
     "output_type": "execute_result"
    }
   ],
   "source": [
    "features_df = pd.merge(slim_lang_df, space_and_time, left_index=True, right_index=True)\n",
    "\n",
    "print ('All valid tweets: {}\\n'.format(len(features_df.index)))"
   ]
  },
  {
   "cell_type": "code",
   "execution_count": 27,
   "metadata": {},
   "outputs": [
    {
     "data": {
      "text/html": [
       "<div>\n",
       "<style scoped>\n",
       "    .dataframe tbody tr th:only-of-type {\n",
       "        vertical-align: middle;\n",
       "    }\n",
       "\n",
       "    .dataframe tbody tr th {\n",
       "        vertical-align: top;\n",
       "    }\n",
       "\n",
       "    .dataframe thead th {\n",
       "        text-align: right;\n",
       "    }\n",
       "</style>\n",
       "<table border=\"1\" class=\"dataframe\">\n",
       "  <thead>\n",
       "    <tr style=\"text-align: right;\">\n",
       "      <th></th>\n",
       "      <th>tweetID</th>\n",
       "      <th>message</th>\n",
       "      <th>period</th>\n",
       "      <th>geoid</th>\n",
       "    </tr>\n",
       "  </thead>\n",
       "  <tbody>\n",
       "    <tr>\n",
       "      <th>0</th>\n",
       "      <td>826284337259827206</td>\n",
       "      <td>It's not going to be easy being a Muslim in Am...</td>\n",
       "      <td>1.0</td>\n",
       "      <td>11001</td>\n",
       "    </tr>\n",
       "    <tr>\n",
       "      <th>1</th>\n",
       "      <td>826284337343639553</td>\n",
       "      <td>WTF is going on? Trump is completely out of co...</td>\n",
       "      <td>1.0</td>\n",
       "      <td>06075</td>\n",
       "    </tr>\n",
       "    <tr>\n",
       "      <th>2</th>\n",
       "      <td>826284337838510080</td>\n",
       "      <td>Acting US Attorney General Sally Yates has bee...</td>\n",
       "      <td>1.0</td>\n",
       "      <td>51059</td>\n",
       "    </tr>\n",
       "    <tr>\n",
       "      <th>3</th>\n",
       "      <td>826284338035691521</td>\n",
       "      <td>Obama's administration made the 'Muslim ban' p...</td>\n",
       "      <td>1.0</td>\n",
       "      <td>06037</td>\n",
       "    </tr>\n",
       "    <tr>\n",
       "      <th>4</th>\n",
       "      <td>826284338920751104</td>\n",
       "      <td>...we are weaker when divided..its time 4 a Mu...</td>\n",
       "      <td>1.0</td>\n",
       "      <td>36061</td>\n",
       "    </tr>\n",
       "  </tbody>\n",
       "</table>\n",
       "</div>"
      ],
      "text/plain": [
       "              tweetID                                            message  \\\n",
       "0  826284337259827206  It's not going to be easy being a Muslim in Am...   \n",
       "1  826284337343639553  WTF is going on? Trump is completely out of co...   \n",
       "2  826284337838510080  Acting US Attorney General Sally Yates has bee...   \n",
       "3  826284338035691521  Obama's administration made the 'Muslim ban' p...   \n",
       "4  826284338920751104  ...we are weaker when divided..its time 4 a Mu...   \n",
       "\n",
       "   period  geoid  \n",
       "0     1.0  11001  \n",
       "1     1.0  06075  \n",
       "2     1.0  51059  \n",
       "3     1.0  06037  \n",
       "4     1.0  36061  "
      ]
     },
     "execution_count": 27,
     "metadata": {},
     "output_type": "execute_result"
    }
   ],
   "source": [
    "features_df = features_df[['message', 'period', 'geoid']].reset_index()\n",
    "features_df.head()"
   ]
  },
  {
   "cell_type": "code",
   "execution_count": 28,
   "metadata": {},
   "outputs": [],
   "source": [
    "# write it out\n",
    "features_df.to_csv('../tweet-features.csv', index=False)"
   ]
  },
  {
   "cell_type": "code",
   "execution_count": null,
   "metadata": {},
   "outputs": [],
   "source": []
  }
 ],
 "metadata": {
  "kernelspec": {
   "display_name": "Python 3",
   "language": "python",
   "name": "python3"
  },
  "language_info": {
   "codemirror_mode": {
    "name": "ipython",
    "version": 3
   },
   "file_extension": ".py",
   "mimetype": "text/x-python",
   "name": "python",
   "nbconvert_exporter": "python",
   "pygments_lexer": "ipython3",
   "version": "3.6.4"
  }
 },
 "nbformat": 4,
 "nbformat_minor": 2
}
